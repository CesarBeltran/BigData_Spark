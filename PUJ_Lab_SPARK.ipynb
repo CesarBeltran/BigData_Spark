{
 "cells": [
  {
   "cell_type": "markdown",
   "id": "ae58dbea-e263-499f-b525-c05330bcd46d",
   "metadata": {},
   "source": [
    "### Pontificia Universidad Javeriana\n",
    "\n",
    "**Autor**: Cesar Beltran\n",
    "\n",
    "**fecha**: 5-nov-2024\n",
    "\n",
    "**Cuaderno**: Primer Laboratorio Spark\n",
    "\n",
    "**Tema**: Limpieza de Datos y prediccion usando **PySpark**\n",
    "    "
   ]
  },
  {
   "cell_type": "markdown",
   "id": "d19b5b06-d030-4583-a9f3-3eec95dbb8d0",
   "metadata": {},
   "source": [
    "Se instalab librerias necesarias para:\n",
    "-spark\n",
    "-numpy\n",
    "-seaborn\n",
    "-matplotlib\n",
    "-scikt-learn\n",
    "-squarify\n"
   ]
  },
  {
   "cell_type": "code",
   "execution_count": 1,
   "id": "d11e54aa-2b4d-4421-a751-a42560344419",
   "metadata": {
    "scrolled": true
   },
   "outputs": [
    {
     "name": "stdout",
     "output_type": "stream",
     "text": [
      "Requirement already satisfied: numpy in /home/sistemas/miniconda3/lib/python3.12/site-packages (2.1.3)\n",
      "Requirement already satisfied: pyspark in /home/sistemas/miniconda3/lib/python3.12/site-packages (3.5.3)\n",
      "Requirement already satisfied: py4j==0.10.9.7 in /home/sistemas/miniconda3/lib/python3.12/site-packages (from pyspark) (0.10.9.7)\n",
      "Requirement already satisfied: seaborn in /home/sistemas/miniconda3/lib/python3.12/site-packages (0.13.2)\n",
      "Requirement already satisfied: numpy!=1.24.0,>=1.20 in /home/sistemas/miniconda3/lib/python3.12/site-packages (from seaborn) (2.1.3)\n",
      "Requirement already satisfied: pandas>=1.2 in /home/sistemas/miniconda3/lib/python3.12/site-packages (from seaborn) (2.2.3)\n",
      "Requirement already satisfied: matplotlib!=3.6.1,>=3.4 in /home/sistemas/miniconda3/lib/python3.12/site-packages (from seaborn) (3.9.2)\n",
      "Requirement already satisfied: contourpy>=1.0.1 in /home/sistemas/miniconda3/lib/python3.12/site-packages (from matplotlib!=3.6.1,>=3.4->seaborn) (1.3.0)\n",
      "Requirement already satisfied: cycler>=0.10 in /home/sistemas/miniconda3/lib/python3.12/site-packages (from matplotlib!=3.6.1,>=3.4->seaborn) (0.12.1)\n",
      "Requirement already satisfied: fonttools>=4.22.0 in /home/sistemas/miniconda3/lib/python3.12/site-packages (from matplotlib!=3.6.1,>=3.4->seaborn) (4.54.1)\n",
      "Requirement already satisfied: kiwisolver>=1.3.1 in /home/sistemas/miniconda3/lib/python3.12/site-packages (from matplotlib!=3.6.1,>=3.4->seaborn) (1.4.7)\n",
      "Requirement already satisfied: packaging>=20.0 in /home/sistemas/miniconda3/lib/python3.12/site-packages (from matplotlib!=3.6.1,>=3.4->seaborn) (24.1)\n",
      "Requirement already satisfied: pillow>=8 in /home/sistemas/miniconda3/lib/python3.12/site-packages (from matplotlib!=3.6.1,>=3.4->seaborn) (11.0.0)\n",
      "Requirement already satisfied: pyparsing>=2.3.1 in /home/sistemas/miniconda3/lib/python3.12/site-packages (from matplotlib!=3.6.1,>=3.4->seaborn) (3.2.0)\n",
      "Requirement already satisfied: python-dateutil>=2.7 in /home/sistemas/miniconda3/lib/python3.12/site-packages (from matplotlib!=3.6.1,>=3.4->seaborn) (2.9.0.post0)\n",
      "Requirement already satisfied: pytz>=2020.1 in /home/sistemas/miniconda3/lib/python3.12/site-packages (from pandas>=1.2->seaborn) (2024.1)\n",
      "Requirement already satisfied: tzdata>=2022.7 in /home/sistemas/miniconda3/lib/python3.12/site-packages (from pandas>=1.2->seaborn) (2024.2)\n",
      "Requirement already satisfied: six>=1.5 in /home/sistemas/miniconda3/lib/python3.12/site-packages (from python-dateutil>=2.7->matplotlib!=3.6.1,>=3.4->seaborn) (1.16.0)\n",
      "Requirement already satisfied: findspark in /home/sistemas/miniconda3/lib/python3.12/site-packages (2.0.1)\n",
      "Requirement already satisfied: matplotlib in /home/sistemas/miniconda3/lib/python3.12/site-packages (3.9.2)\n",
      "Requirement already satisfied: contourpy>=1.0.1 in /home/sistemas/miniconda3/lib/python3.12/site-packages (from matplotlib) (1.3.0)\n",
      "Requirement already satisfied: cycler>=0.10 in /home/sistemas/miniconda3/lib/python3.12/site-packages (from matplotlib) (0.12.1)\n",
      "Requirement already satisfied: fonttools>=4.22.0 in /home/sistemas/miniconda3/lib/python3.12/site-packages (from matplotlib) (4.54.1)\n",
      "Requirement already satisfied: kiwisolver>=1.3.1 in /home/sistemas/miniconda3/lib/python3.12/site-packages (from matplotlib) (1.4.7)\n",
      "Requirement already satisfied: numpy>=1.23 in /home/sistemas/miniconda3/lib/python3.12/site-packages (from matplotlib) (2.1.3)\n",
      "Requirement already satisfied: packaging>=20.0 in /home/sistemas/miniconda3/lib/python3.12/site-packages (from matplotlib) (24.1)\n",
      "Requirement already satisfied: pillow>=8 in /home/sistemas/miniconda3/lib/python3.12/site-packages (from matplotlib) (11.0.0)\n",
      "Requirement already satisfied: pyparsing>=2.3.1 in /home/sistemas/miniconda3/lib/python3.12/site-packages (from matplotlib) (3.2.0)\n",
      "Requirement already satisfied: python-dateutil>=2.7 in /home/sistemas/miniconda3/lib/python3.12/site-packages (from matplotlib) (2.9.0.post0)\n",
      "Requirement already satisfied: six>=1.5 in /home/sistemas/miniconda3/lib/python3.12/site-packages (from python-dateutil>=2.7->matplotlib) (1.16.0)\n"
     ]
    }
   ],
   "source": [
    "!pip install numpy\n",
    "!pip install pyspark\n",
    "!pip install seaborn\n",
    "!pip install findspark\n",
    "!pip install matplotlib"
   ]
  },
  {
   "cell_type": "code",
   "execution_count": 2,
   "id": "fccd122f-809b-4da7-b635-bf5f5e5e0db1",
   "metadata": {},
   "outputs": [],
   "source": [
    "### se invocan bibliotecas\n",
    "import numpy as np\n",
    "import seaborn as sns\n",
    "import matplotlib.pyplot as plt\n",
    "import pyspark\n",
    "\n",
    "from pyspark.context import SparkContext\n",
    "from pyspark.sql import SQLContext, SparkSession\n",
    "from pyspark.sql.types import *\n",
    "from pyspark.sql.functions import input_file_name, mean, col, split, regexp_extract, when, lit, isnan, count\n",
    "from pyspark import SparkFiles\n",
    "\n",
    "from pyspark.conf import SparkConf\n",
    "import os \n"
   ]
  },
  {
   "cell_type": "markdown",
   "id": "d6cd7ca0-8993-4a62-a669-dd63614c5206",
   "metadata": {},
   "source": [
    "### Se configura Entorno PySpark"
   ]
  },
  {
   "cell_type": "code",
   "execution_count": 3,
   "id": "147600ec-23c0-4d43-8a21-cc828ef0ff59",
   "metadata": {},
   "outputs": [
    {
     "name": "stderr",
     "output_type": "stream",
     "text": [
      "/almacen/Spark/conf/spark-env.sh: línea 49: SPARK_MASTER_HOST: orden no encontrada\n",
      "Setting default log level to \"WARN\".\n",
      "To adjust logging level use sc.setLogLevel(newLevel). For SparkR, use setLogLevel(newLevel).\n",
      "24/11/12 19:51:55 WARN NativeCodeLoader: Unable to load native-hadoop library for your platform... using builtin-java classes where applicable\n",
      "24/11/12 19:51:55 WARN SparkConf: Note that spark.local.dir will be overridden by the value set by the cluster manager (via SPARK_LOCAL_DIRS in mesos/standalone/kubernetes and LOCAL_DIRS in YARN).\n",
      "24/11/12 19:51:55 WARN Utils: Service 'SparkUI' could not bind on port 4040. Attempting port 4041.\n",
      "24/11/12 19:51:55 WARN Utils: Service 'SparkUI' could not bind on port 4041. Attempting port 4042.\n",
      "24/11/12 19:51:55 WARN Utils: Service 'SparkUI' could not bind on port 4042. Attempting port 4043.\n",
      "24/11/12 19:51:55 WARN Utils: Service 'SparkUI' could not bind on port 4043. Attempting port 4044.\n",
      "24/11/12 19:51:55 WARN Utils: Service 'SparkUI' could not bind on port 4044. Attempting port 4045.\n"
     ]
    },
    {
     "name": "stdout",
     "output_type": "stream",
     "text": [
      "Sesion creada: HPC\n"
     ]
    },
    {
     "data": {
      "text/html": [
       "\n",
       "            <div>\n",
       "                <p><b>SparkSession - in-memory</b></p>\n",
       "                \n",
       "        <div>\n",
       "            <p><b>SparkContext</b></p>\n",
       "\n",
       "            <p><a href=\"http://dos02:4045\">Spark UI</a></p>\n",
       "\n",
       "            <dl>\n",
       "              <dt>Version</dt>\n",
       "                <dd><code>v3.5.3</code></dd>\n",
       "              <dt>Master</dt>\n",
       "                <dd><code>spark://dos01:7077</code></dd>\n",
       "              <dt>AppName</dt>\n",
       "                <dd><code>Proyecto00_Spark_Stroke_Beltran</code></dd>\n",
       "            </dl>\n",
       "        </div>\n",
       "        \n",
       "            </div>\n",
       "        "
      ],
      "text/plain": [
       "<pyspark.sql.session.SparkSession at 0x74961842a9c0>"
      ]
     },
     "execution_count": 3,
     "metadata": {},
     "output_type": "execute_result"
    }
   ],
   "source": [
    "SPARK_MASTER_URL = os.getenv(\"SPARK_MASTER_URL\",\"spark://dos01:7077\")\n",
    "configura=SparkConf()\n",
    "configura.setMaster(SPARK_MASTER_URL)\n",
    "configura.set('spark.local.dir','/almacen/TrabajosSpark/')\n",
    "configura.setAppName(\"Proyecto00_Spark_Stroke_Beltran\")\n",
    "\n",
    "configura.set('spark.cores.max',6)\n",
    "configura.set('spark.executor.cores',6)\n",
    "\n",
    "spark = SparkSession.builder.config(conf=configura).getOrCreate()\n",
    "SQLContext(sparkContext=spark.sparkContext, sparkSession=spark)\n",
    "\n",
    "print(\"Sesion creada: HPC\")\n",
    "spark"
   ]
  },
  {
   "cell_type": "code",
   "execution_count": 8,
   "id": "ac943299-1d34-41ec-819a-cb2425a00de2",
   "metadata": {
    "scrolled": true
   },
   "outputs": [
    {
     "name": "stderr",
     "output_type": "stream",
     "text": [
      "                                                                                \r"
     ]
    },
    {
     "name": "stdout",
     "output_type": "stream",
     "text": [
      "+-----+------+----+------------+-------------+------------+-------------+--------------+-----------------+----+---------------+------+\n",
      "|   id|gender| age|hypertension|heart_disease|ever_married|    work_type|Residence_type|avg_glucose_level| bmi| smoking_status|stroke|\n",
      "+-----+------+----+------------+-------------+------------+-------------+--------------+-----------------+----+---------------+------+\n",
      "| 9046|  Male|67.0|           0|            1|         Yes|      Private|         Urban|           228.69|36.6|formerly smoked|     1|\n",
      "|51676|Female|61.0|           0|            0|         Yes|Self-employed|         Rural|           202.21| N/A|   never smoked|     1|\n",
      "+-----+------+----+------------+-------------+------------+-------------+--------------+-----------------+----+---------------+------+\n",
      "only showing top 2 rows\n",
      "\n"
     ]
    }
   ],
   "source": [
    "###Dataset: https://github.com/corredor-john/ExploratoryDataAnalisys/blob/main/Varios/stroke_pyspark.csv\n",
    "\n",
    "\n",
    "url =\"stroke_pyspark.csv\"\n",
    "df00Stroke00 = spark.read.csv(url, header=True, inferSchema=True)\n",
    "\n",
    "df00Stroke00.show(2)\n",
    "\n",
    "\n"
   ]
  },
  {
   "cell_type": "code",
   "execution_count": 6,
   "id": "a69d5e4d-253e-4629-88e0-4ae31d543974",
   "metadata": {},
   "outputs": [
    {
     "data": {
      "text/plain": [
       "['id',\n",
       " 'gender',\n",
       " 'age',\n",
       " 'hypertension',\n",
       " 'heart_disease',\n",
       " 'ever_married',\n",
       " 'work_type',\n",
       " 'Residence_type',\n",
       " 'avg_glucose_level',\n",
       " 'bmi',\n",
       " 'smoking_status',\n",
       " 'stroke']"
      ]
     },
     "execution_count": 6,
     "metadata": {},
     "output_type": "execute_result"
    }
   ],
   "source": [
    "df00Stroke00.columns"
   ]
  },
  {
   "cell_type": "code",
   "execution_count": 11,
   "id": "b8d15d08-6be1-4ac8-982e-312c6d20faa3",
   "metadata": {},
   "outputs": [
    {
     "name": "stdout",
     "output_type": "stream",
     "text": [
      "root\n",
      " |-- id: integer (nullable = true)\n",
      " |-- gender: string (nullable = true)\n",
      " |-- age: double (nullable = true)\n",
      " |-- hypertension: integer (nullable = true)\n",
      " |-- heart_disease: integer (nullable = true)\n",
      " |-- ever_married: string (nullable = true)\n",
      " |-- work_type: string (nullable = true)\n",
      " |-- Residence_type: string (nullable = true)\n",
      " |-- avg_glucose_level: double (nullable = true)\n",
      " |-- bmi: string (nullable = true)\n",
      " |-- smoking_status: string (nullable = true)\n",
      " |-- stroke: integer (nullable = true)\n",
      "\n"
     ]
    }
   ],
   "source": [
    "### Tipo de datos\n",
    "df00Stroke00.printSchema()"
   ]
  },
  {
   "cell_type": "code",
   "execution_count": 17,
   "id": "ec81db7a-4232-421f-9f25-e1efaa9f94f1",
   "metadata": {
    "scrolled": true
   },
   "outputs": [
    {
     "data": {
      "text/plain": [
       "['ID',\n",
       " 'Genero',\n",
       " 'Edad',\n",
       " 'Hipertension',\n",
       " 'Enfermedad',\n",
       " 'Casado',\n",
       " 'Trabajo',\n",
       " 'Tipo_Residencia',\n",
       " 'Nivel_Prom_GlucosA',\n",
       " 'IMC',\n",
       " 'Fumador',\n",
       " 'Paro_Cardiaco']"
      ]
     },
     "execution_count": 17,
     "metadata": {},
     "output_type": "execute_result"
    }
   ],
   "source": [
    "### Se requiere cambiar los nombres de las Columnas\n",
    "nuevosNombres = ['ID','Genero', 'Edad', 'Hipertension', 'Enfermedad', 'Casado', 'Trabajo', 'Tipo_Residencia', \n",
    "                 'Nivel_Prom_GlucosA', 'IMC', 'Fumador', 'Paro_Cardiaco']\n",
    "df00Stroke01= df00Stroke00\n",
    "###Bucle para cambio de nombre\n",
    "\n",
    "for antes, nuevo in zip(df00Stroke01.columns, nuevosNombres):\n",
    "        df00Stroke01= df00Stroke01.withColumnRenamed(antes, nuevo)\n",
    "\n",
    "\n",
    "df00Stroke01.columns"
   ]
  },
  {
   "cell_type": "code",
   "execution_count": 24,
   "id": "a7768576-b467-4a01-a27c-b921fc9ebad6",
   "metadata": {},
   "outputs": [
    {
     "name": "stdout",
     "output_type": "stream",
     "text": [
      "root\n",
      " |-- ID: integer (nullable = true)\n",
      " |-- Genero: string (nullable = true)\n",
      " |-- Edad: double (nullable = true)\n",
      " |-- Hipertension: integer (nullable = true)\n",
      " |-- Enfermedad: integer (nullable = true)\n",
      " |-- Casado: string (nullable = true)\n",
      " |-- Trabajo: string (nullable = true)\n",
      " |-- Tipo_Residencia: string (nullable = true)\n",
      " |-- Nivel_Prom_GlucosA: double (nullable = true)\n",
      " |-- IMC: double (nullable = true)\n",
      " |-- Fumador: string (nullable = true)\n",
      " |-- Paro_Cardiaco: integer (nullable = true)\n",
      "\n"
     ]
    }
   ],
   "source": [
    "### Se requiere cambiar los nombres de las Columnas\n",
    "\n",
    "df00Stroke01=df00Stroke01.withColumn('IMC', df00Stroke01.IMC.cast(DoubleType()))\n",
    "df00Stroke01.printSchema()\n"
   ]
  },
  {
   "cell_type": "code",
   "execution_count": 27,
   "id": "e7123e25-858b-4f23-be87-c0ab4e29c101",
   "metadata": {},
   "outputs": [
    {
     "name": "stderr",
     "output_type": "stream",
     "text": [
      "[Stage 8:>                                                          (0 + 1) / 1]\r"
     ]
    },
    {
     "name": "stdout",
     "output_type": "stream",
     "text": [
      "+---+------+----+------------+----------+------+-------+---------------+------------------+---+-------+-------------+\n",
      "| ID|Genero|Edad|Hipertension|Enfermedad|Casado|Trabajo|Tipo_Residencia|Nivel_Prom_GlucosA|IMC|Fumador|Paro_Cardiaco|\n",
      "+---+------+----+------------+----------+------+-------+---------------+------------------+---+-------+-------------+\n",
      "|  0|     0|   0|           0|         0|     0|      0|              0|                 0|201|      0|            0|\n",
      "+---+------+----+------------+----------+------+-------+---------------+------------------+---+-------+-------------+\n",
      "\n"
     ]
    },
    {
     "name": "stderr",
     "output_type": "stream",
     "text": [
      "                                                                                \r"
     ]
    }
   ],
   "source": [
    "### pend foto\n",
    "\n",
    "df00Stroke01.select([count(when(isnan(c) | col(c).isNull(), c)).alias(c) for c in df00Stroke01.columns]).show()"
   ]
  },
  {
   "cell_type": "code",
   "execution_count": 26,
   "id": "7f18f4f1-d1ad-4947-ac92-c0cdf5cffdd9",
   "metadata": {},
   "outputs": [
    {
     "data": {
      "text/plain": [
       "5110"
      ]
     },
     "execution_count": 26,
     "metadata": {},
     "output_type": "execute_result"
    }
   ],
   "source": [
    "df00Stroke01.count()"
   ]
  },
  {
   "cell_type": "code",
   "execution_count": 28,
   "id": "e1ebee92-903c-4d5d-b939-0045b48e40b1",
   "metadata": {},
   "outputs": [
    {
     "name": "stdout",
     "output_type": "stream",
     "text": [
      "Se tiene una porción de 3.93%\n"
     ]
    }
   ],
   "source": [
    "nulos= (201/df00Stroke01.count())*100\n",
    "print(f\"Se tiene una porción de {round(nulos,2)}%\")"
   ]
  },
  {
   "cell_type": "code",
   "execution_count": 42,
   "id": "17e612dc-238e-4bb9-ac3d-3d193e1430a5",
   "metadata": {},
   "outputs": [
    {
     "name": "stdout",
     "output_type": "stream",
     "text": [
      "+------+-----+\n",
      "|Genero|count|\n",
      "+------+-----+\n",
      "|Female| 2994|\n",
      "| Other|    1|\n",
      "|  Male| 2115|\n",
      "+------+-----+\n",
      "\n"
     ]
    }
   ],
   "source": [
    "## Se observa las categorias Género\n",
    "df00Stroke01.groupby([\"Genero\"]).count().show()\n",
    "\n",
    "\n"
   ]
  },
  {
   "cell_type": "code",
   "execution_count": 39,
   "id": "a4a717a0-220d-4362-9ca4-890999fe7fee",
   "metadata": {},
   "outputs": [
    {
     "name": "stdout",
     "output_type": "stream",
     "text": [
      "+------+-----+\n",
      "|Genero|count|\n",
      "+------+-----+\n",
      "|Female| 2994|\n",
      "|  Male| 2115|\n",
      "+------+-----+\n",
      "\n"
     ]
    }
   ],
   "source": [
    "\n",
    "##Se elimina el Other en los Datos\n",
    "df00Stroke02= df00Stroke01.where(\"Genero <> 'Other'\")\n",
    "df00Stroke02.groupby(['Genero']).count().show()\n"
   ]
  },
  {
   "cell_type": "code",
   "execution_count": 46,
   "id": "fd4f430c-549a-4143-bd09-7544f3177200",
   "metadata": {},
   "outputs": [
    {
     "name": "stdout",
     "output_type": "stream",
     "text": [
      "[Row(avg(IMC)=18.687962962962963)]\n"
     ]
    }
   ],
   "source": [
    "###Se estrarifica por edades y por genero, de manera que cada 10 años se saca el promedio  IMC y por genero.\n",
    "AvIMC_0_10 = df00Stroke02.where((col(\"Genero\") == lit(\"Female\")) & (col(\"Edad\")<10)).select(mean(col(\"IMC\"))).collect()[0][0]\n",
    "print(AvIMC_0_10)"
   ]
  },
  {
   "cell_type": "code",
   "execution_count": 54,
   "id": "4de558c6-933b-4aaf-ab72-402078e806e8",
   "metadata": {},
   "outputs": [
    {
     "ename": "SyntaxError",
     "evalue": "invalid syntax. Perhaps you forgot a comma? (3849571717.py, line 3)",
     "output_type": "error",
     "traceback": [
      "\u001b[0;36m  Cell \u001b[0;32mIn[54], line 3\u001b[0;36m\u001b[0m\n\u001b[0;31m    prom = df.where((col(col01) == lit(cat(catGenero)) & (col(col02) > minEdad) & (col(col02) < maxEdad)).select(mean(col(col03))).collect()[0][0]\u001b[0m\n\u001b[0m                    ^\u001b[0m\n\u001b[0;31mSyntaxError\u001b[0m\u001b[0;31m:\u001b[0m invalid syntax. Perhaps you forgot a comma?\n"
     ]
    }
   ],
   "source": [
    "### SE hace la funcion para el cambio   PENDIENTE!!!\n",
    "def cambioPromedio(df, col01, catGenero, col02, minEdad, maxEdad, col03):\n",
    "    prom = df.where((col(col01) == lit(cat(catGenero)) & (col(col02) > minEdad) & (col(col02) < maxEdad)).select(mean(col(col03))).collect()[0][0]\n",
    "    \n",
    "    print(prom)\n",
    "    dfResul = df.withColumn(col03, when((df([col01] == catGenero) &df[col03].isNull()) & (df[col02]<maxEdad)), prom).otherwise(df[col03]))\n",
    "    return dfResul\n",
    "\n",
    "\n",
    "    "
   ]
  },
  {
   "cell_type": "code",
   "execution_count": 49,
   "id": "e626d532-24c0-4260-b0f1-28a97e566056",
   "metadata": {},
   "outputs": [
    {
     "ename": "NameError",
     "evalue": "name 'cambioPromedio' is not defined",
     "output_type": "error",
     "traceback": [
      "\u001b[0;31m---------------------------------------------------------------------------\u001b[0m",
      "\u001b[0;31mNameError\u001b[0m                                 Traceback (most recent call last)",
      "Cell \u001b[0;32mIn[49], line 2\u001b[0m\n\u001b[1;32m      1\u001b[0m \u001b[38;5;28;01mfor\u001b[39;00m promedio \u001b[38;5;129;01min\u001b[39;00m \u001b[38;5;28mrange\u001b[39m(\u001b[38;5;241m0\u001b[39m,\u001b[38;5;241m100\u001b[39m,\u001b[38;5;241m10\u001b[39m):\n\u001b[0;32m----> 2\u001b[0m     df00Stroke03\u001b[38;5;241m=\u001b[39mcambioPromedio(df00Stroke0, \u001b[38;5;124m\"\u001b[39m\u001b[38;5;124mGenero\u001b[39m\u001b[38;5;124m\"\u001b[39m, \u001b[38;5;124m\"\u001b[39m\u001b[38;5;124mFemale\u001b[39m\u001b[38;5;124m\"\u001b[39m, \u001b[38;5;124m\"\u001b[39m\u001b[38;5;124mEdad\u001b[39m\u001b[38;5;124m\"\u001b[39m, promedio, promedio\u001b[38;5;241m+\u001b[39m\u001b[38;5;241m10\u001b[39m, \u001b[38;5;124m\"\u001b[39m\u001b[38;5;124mIMC\u001b[39m\u001b[38;5;124m\"\u001b[39m)\n\u001b[1;32m      5\u001b[0m     \u001b[38;5;28mprint\u001b[39m(promedio)\n",
      "\u001b[0;31mNameError\u001b[0m: name 'cambioPromedio' is not defined"
     ]
    }
   ],
   "source": [
    "df00Stroke03=df00Stroke02\n",
    "for promedio in range(0,100,10):\n",
    "    df00Stroke03=cambioPromedio(df00Stroke2, \"Genero\", \"Female\", \"Edad\", promedio, promedio+10, \"IMC\")\n",
    "        \n",
    "    print(promedio, promedio+10)\n",
    "\n"
   ]
  }
 ],
 "metadata": {
  "kernelspec": {
   "display_name": "Python 3 (ipykernel)",
   "language": "python",
   "name": "python3"
  },
  "language_info": {
   "codemirror_mode": {
    "name": "ipython",
    "version": 3
   },
   "file_extension": ".py",
   "mimetype": "text/x-python",
   "name": "python",
   "nbconvert_exporter": "python",
   "pygments_lexer": "ipython3",
   "version": "3.12.7"
  }
 },
 "nbformat": 4,
 "nbformat_minor": 5
}
