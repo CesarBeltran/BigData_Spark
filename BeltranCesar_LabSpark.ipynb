{
 "cells": [
  {
   "cell_type": "markdown",
   "metadata": {
    "application/vnd.databricks.v1+cell": {
     "cellMetadata": {},
     "inputWidgets": {},
     "nuid": "adc1879e-df99-4e48-aecf-ba57631a5c6d",
     "showTitle": false,
     "tableResultSettingsMap": {},
     "title": ""
    }
   },
   "source": [
    "<style>\n",
    "  .contenedor-flex {\n",
    "    display: flex;\n",
    "    justify-content: flex-start;\n",
    "    align-items: flex-start;\n",
    "  }\n",
    "  .imagen {\n",
    "    margin-right: 20px;\n",
    "  }\n",
    "</style>\n",
    "\n",
    "<div class=\"contenedor-flex\">\n",
    "  <div class=\"imagen\">\n",
    "    <img src=\"https://seeklogo.com/images/P/pontificia-universidad-javeriana-logo-D073FD2B47-seeklogo.com.png\" width=\"150\" alt=\"Logo Javeriana\">\n",
    "  </div>\n",
    "  <div>\n",
    "    <br><strong>Pontificia Universidad Javeriana</strong><br>\n",
    "    <strong>Autor:</strong> Cesar Ramiro Beltrán Hernández<br>\n",
    "    <strong>Fecha:</strong> 18-nov-2024<br>\n",
    "    <strong>Cuaderno:</strong> Primer Laboratorio Spark<br>\n",
    "    <strong>Tema:</strong> Limpieza de Datos y predicción usando <em>PySpark</em><br>\n",
    "    <strong>Asignatura:</strong> Computación de Alto Desempeño<br>\n",
    "     <strong>Docente:</strong> John Corredor, Ph.D.<br>\n",
    "    <strong>Dataset:</strong> <a href=\"https://github.com/corredor-john/ExploratoryDataAnalisys/blob/main/Varios/stroke_pyspark.csv\">Link al dataset</a>\n",
    "  </div>\n",
    "</div>\n",
    "\n",
    "\n",
    "###Introducción\n",
    "\n",
    "En este laboratorio, se usó PySpark para procesar grandes volúmenes de datos y realizar predicciones. Se lleva a cabo la limpieza de un dataset y se aplican modelos de aprendizaje automático para obtener predicciones en un entorno de computación de alto rendimiento.\n",
    "Para el desarroyo de este trabajo se usó el dataset *stroke* el cual contiene información demográfica, de estilo de vida y de salud de diferentes individuos y caracteristicas relacionadas con accidentes cerebrovasculares.\n",
    "\n",
    "\n",
    "###Observaciones\n",
    "Durante el desarrollo del proyecto se observaron varios puntos relevantes:\n",
    "\n",
    "**Preprocesamiento de Datos**: La fase inicial incluyó la conversión de variables categóricas a formato numérico, el manejo de valores nulos y la creación de un vector de características, estas acciones fueron esenciales para garantizar la calidad del modelo.\n",
    "\n",
    "**Modelos Probados**: Se emplearon modelos de regresión logística y un clasificador de Random Forest para realizar las predicciones. Estis modelos se evaluaron en términos de precisión, tasa de falsos positivos y área bajo la curva (AUC).\n",
    "\n",
    "**Desempeño**: El análisis de los resultados mostró que el modelo de Random Forest proporcionó un rendimiento sólido en comparación con la regresión logística, asímismo la curva ROC para ambos modelos indicó una AUC de aproximadamente 0.84, lo cual sugiere un desempeño adecuado en la predicción.\n"
   ]
  },
  {
   "cell_type": "markdown",
   "metadata": {
    "application/vnd.databricks.v1+cell": {
     "cellMetadata": {
      "byteLimit": 2048000,
      "rowLimit": 10000
     },
     "inputWidgets": {},
     "nuid": "6fac8c47-590d-46ff-ba4b-ce7668afbf34",
     "showTitle": false,
     "tableResultSettingsMap": {},
     "title": ""
    }
   },
   "source": [
    "Se instalan librerias necesarias para Spark:\n",
    "- numpy\n",
    "- seaborn\n",
    "- Matplotlib\n",
    "- scikt-learn\n",
    "- squarify\n"
   ]
  },
  {
   "cell_type": "code",
   "execution_count": 0,
   "metadata": {
    "application/vnd.databricks.v1+cell": {
     "cellMetadata": {
      "byteLimit": 2048000,
      "rowLimit": 10000
     },
     "inputWidgets": {},
     "nuid": "eca85dcf-4fb3-4fde-9373-6ac43375dc73",
     "showTitle": false,
     "tableResultSettingsMap": {},
     "title": ""
    },
    "scrolled": true
   },
   "outputs": [
    {
     "output_type": "stream",
     "name": "stdout",
     "output_type": "stream",
     "text": [
      "\u001B[43mNote: you may need to restart the kernel using dbutils.library.restartPython() to use updated packages.\u001B[0m\nRequirement already satisfied: numpy in /databricks/python3/lib/python3.10/site-packages (1.23.5)\n\u001B[43mNote: you may need to restart the kernel using dbutils.library.restartPython() to use updated packages.\u001B[0m\n\u001B[43mNote: you may need to restart the kernel using dbutils.library.restartPython() to use updated packages.\u001B[0m\nCollecting pyspark\n  Downloading pyspark-3.5.3.tar.gz (317.3 MB)\n     ━━━━━━━━━━━━━━━━━━━━━━━━━━━━━━━━━━━━━ 317.3/317.3 MB 867.2 kB/s eta 0:00:00\n  Preparing metadata (setup.py): started\n  Preparing metadata (setup.py): finished with status 'done'\nCollecting py4j==0.10.9.7\n  Downloading py4j-0.10.9.7-py2.py3-none-any.whl (200 kB)\n     ━━━━━━━━━━━━━━━━━━━━━━━━━━━━━━━━━━━━━━ 200.5/200.5 kB 22.7 MB/s eta 0:00:00\nBuilding wheels for collected packages: pyspark\n  Building wheel for pyspark (setup.py): started\n  Building wheel for pyspark (setup.py): finished with status 'done'\n  Created wheel for pyspark: filename=pyspark-3.5.3-py2.py3-none-any.whl size=317840633 sha256=def6c078a79f13a8493ef79d5731e4264932e5b19e3423f3eb10e0f0bb5a88a8\n  Stored in directory: /root/.cache/pip/wheels/2a/53/7b/362c2fe2d1fdd6bae33a4e5007ad032093b9ca6286be61134c\nSuccessfully built pyspark\nInstalling collected packages: py4j, pyspark\nSuccessfully installed py4j-0.10.9.7 pyspark-3.5.3\n\u001B[43mNote: you may need to restart the kernel using dbutils.library.restartPython() to use updated packages.\u001B[0m\n\u001B[43mNote: you may need to restart the kernel using dbutils.library.restartPython() to use updated packages.\u001B[0m\nRequirement already satisfied: seaborn in /databricks/python3/lib/python3.10/site-packages (0.12.2)\nRequirement already satisfied: numpy!=1.24.0,>=1.17 in /databricks/python3/lib/python3.10/site-packages (from seaborn) (1.23.5)\nRequirement already satisfied: pandas>=0.25 in /databricks/python3/lib/python3.10/site-packages (from seaborn) (1.5.3)\nRequirement already satisfied: matplotlib!=3.6.1,>=3.1 in /databricks/python3/lib/python3.10/site-packages (from seaborn) (3.7.0)\nRequirement already satisfied: contourpy>=1.0.1 in /databricks/python3/lib/python3.10/site-packages (from matplotlib!=3.6.1,>=3.1->seaborn) (1.0.5)\nRequirement already satisfied: cycler>=0.10 in /databricks/python3/lib/python3.10/site-packages (from matplotlib!=3.6.1,>=3.1->seaborn) (0.11.0)\nRequirement already satisfied: packaging>=20.0 in /databricks/python3/lib/python3.10/site-packages (from matplotlib!=3.6.1,>=3.1->seaborn) (22.0)\nRequirement already satisfied: python-dateutil>=2.7 in /databricks/python3/lib/python3.10/site-packages (from matplotlib!=3.6.1,>=3.1->seaborn) (2.8.2)\nRequirement already satisfied: kiwisolver>=1.0.1 in /databricks/python3/lib/python3.10/site-packages (from matplotlib!=3.6.1,>=3.1->seaborn) (1.4.4)\nRequirement already satisfied: pillow>=6.2.0 in /databricks/python3/lib/python3.10/site-packages (from matplotlib!=3.6.1,>=3.1->seaborn) (9.4.0)\nRequirement already satisfied: fonttools>=4.22.0 in /databricks/python3/lib/python3.10/site-packages (from matplotlib!=3.6.1,>=3.1->seaborn) (4.25.0)\nRequirement already satisfied: pyparsing>=2.3.1 in /databricks/python3/lib/python3.10/site-packages (from matplotlib!=3.6.1,>=3.1->seaborn) (3.0.9)\nRequirement already satisfied: pytz>=2020.1 in /databricks/python3/lib/python3.10/site-packages (from pandas>=0.25->seaborn) (2022.7)\nRequirement already satisfied: six>=1.5 in /usr/lib/python3/dist-packages (from python-dateutil>=2.7->matplotlib!=3.6.1,>=3.1->seaborn) (1.16.0)\n\u001B[43mNote: you may need to restart the kernel using dbutils.library.restartPython() to use updated packages.\u001B[0m\n\u001B[43mNote: you may need to restart the kernel using dbutils.library.restartPython() to use updated packages.\u001B[0m\nCollecting findspark\n  Downloading findspark-2.0.1-py2.py3-none-any.whl (4.4 kB)\nInstalling collected packages: findspark\nSuccessfully installed findspark-2.0.1\n\u001B[43mNote: you may need to restart the kernel using dbutils.library.restartPython() to use updated packages.\u001B[0m\n\u001B[43mNote: you may need to restart the kernel using dbutils.library.restartPython() to use updated packages.\u001B[0m\nRequirement already satisfied: matplotlib in /databricks/python3/lib/python3.10/site-packages (3.7.0)\nRequirement already satisfied: contourpy>=1.0.1 in /databricks/python3/lib/python3.10/site-packages (from matplotlib) (1.0.5)\nRequirement already satisfied: packaging>=20.0 in /databricks/python3/lib/python3.10/site-packages (from matplotlib) (22.0)\nRequirement already satisfied: kiwisolver>=1.0.1 in /databricks/python3/lib/python3.10/site-packages (from matplotlib) (1.4.4)\nRequirement already satisfied: pyparsing>=2.3.1 in /databricks/python3/lib/python3.10/site-packages (from matplotlib) (3.0.9)\nRequirement already satisfied: pillow>=6.2.0 in /databricks/python3/lib/python3.10/site-packages (from matplotlib) (9.4.0)\nRequirement already satisfied: cycler>=0.10 in /databricks/python3/lib/python3.10/site-packages (from matplotlib) (0.11.0)\nRequirement already satisfied: numpy>=1.20 in /databricks/python3/lib/python3.10/site-packages (from matplotlib) (1.23.5)\nRequirement already satisfied: fonttools>=4.22.0 in /databricks/python3/lib/python3.10/site-packages (from matplotlib) (4.25.0)\nRequirement already satisfied: python-dateutil>=2.7 in /databricks/python3/lib/python3.10/site-packages (from matplotlib) (2.8.2)\nRequirement already satisfied: six>=1.5 in /usr/lib/python3/dist-packages (from python-dateutil>=2.7->matplotlib) (1.16.0)\n\u001B[43mNote: you may need to restart the kernel using dbutils.library.restartPython() to use updated packages.\u001B[0m\n\u001B[43mNote: you may need to restart the kernel using dbutils.library.restartPython() to use updated packages.\u001B[0m\nCollecting tabulate\n  Downloading tabulate-0.9.0-py3-none-any.whl (35 kB)\nInstalling collected packages: tabulate\nSuccessfully installed tabulate-0.9.0\n\u001B[43mNote: you may need to restart the kernel using dbutils.library.restartPython() to use updated packages.\u001B[0m\n"
     ]
    }
   ],
   "source": [
    "!pip install numpy\n",
    "!pip install pyspark\n",
    "!pip install seaborn\n",
    "!pip install findspark\n",
    "!pip install matplotlib\n",
    "!pip install tabulate"
   ]
  },
  {
   "cell_type": "code",
   "execution_count": 0,
   "metadata": {
    "application/vnd.databricks.v1+cell": {
     "cellMetadata": {
      "byteLimit": 2048000,
      "rowLimit": 10000
     },
     "inputWidgets": {},
     "nuid": "b31602d6-8375-4f50-8d3e-215583daae33",
     "showTitle": false,
     "tableResultSettingsMap": {},
     "title": ""
    }
   },
   "outputs": [],
   "source": [
    "### se invocan bibliotecas\n",
    "import numpy as np\n",
    "import seaborn as sns\n",
    "import matplotlib.pyplot as plt\n",
    "import pyspark\n",
    "\n",
    "from pyspark.context import SparkContext\n",
    "from pyspark.sql import SQLContext, SparkSession\n",
    "from pyspark.sql.types import *\n",
    "from pyspark.sql.functions import input_file_name, mean, col, split, regexp_extract, when, lit, isnan, count\n",
    "from pyspark import SparkFiles\n",
    "\n",
    "from pyspark.conf import SparkConf\n",
    "import os \n"
   ]
  },
  {
   "cell_type": "markdown",
   "metadata": {
    "application/vnd.databricks.v1+cell": {
     "cellMetadata": {
      "byteLimit": 2048000,
      "rowLimit": 10000
     },
     "inputWidgets": {},
     "nuid": "5790ee9a-801b-45e3-9e6c-73bd79d1f7a2",
     "showTitle": false,
     "tableResultSettingsMap": {},
     "title": ""
    }
   },
   "source": [
    "### Se configura Entorno PySpark\n",
    "Se realiza Configuración de SparkContext y SparkSessio"
   ]
  },
  {
   "cell_type": "code",
   "execution_count": 0,
   "metadata": {
    "application/vnd.databricks.v1+cell": {
     "cellMetadata": {
      "byteLimit": 2048000,
      "rowLimit": 10000
     },
     "inputWidgets": {},
     "nuid": "e59b796b-1383-40b3-9f3f-aed76c859d80",
     "showTitle": false,
     "tableResultSettingsMap": {},
     "title": ""
    }
   },
   "outputs": [],
   "source": [
    "SPARK_MASTER_URL = os.getenv(\"SPARK_MASTER_URL\",\"spark://dos01:7077\")\n",
    "configura=SparkConf()\n",
    "configura.setMaster(SPARK_MASTER_URL)\n",
    "configura.set('spark.local.dir','/almacen/TrabajosSpark/')\n",
    "configura.setAppName(\"Proyecto00_Spark_Stroke_Beltran\")\n",
    "\n",
    "configura.set('spark.cores.max',6)\n",
    "configura.set('spark.executor.cores',6)\n",
    "\n",
    "spark = SparkSession.builder.config(conf=configura).getOrCreate()\n",
    "SQLContext(sparkContext=spark.sparkContext, sparkSession=spark)\n",
    "\n",
    "print(\"Sesion creada: HPC\")\n",
    "spark"
   ]
  },
  {
   "cell_type": "markdown",
   "metadata": {
    "application/vnd.databricks.v1+cell": {
     "cellMetadata": {
      "byteLimit": 2048000,
      "rowLimit": 10000
     },
     "inputWidgets": {},
     "nuid": "2d902a38-a2f9-4c86-a537-1157f3580664",
     "showTitle": false,
     "tableResultSettingsMap": {},
     "title": ""
    }
   },
   "source": [
    "### Carga de Datos y Lectura de Archivos\n",
    "Se lee el archivo CSV con la opción de encabezado y detección de esquema."
   ]
  },
  {
   "cell_type": "code",
   "execution_count": 0,
   "metadata": {
    "application/vnd.databricks.v1+cell": {
     "cellMetadata": {
      "byteLimit": 2048000,
      "rowLimit": 10000
     },
     "inputWidgets": {},
     "nuid": "0ddb11b4-190b-4080-b3a7-282ed7c6f604",
     "showTitle": false,
     "tableResultSettingsMap": {},
     "title": ""
    },
    "scrolled": true
   },
   "outputs": [
    {
     "output_type": "stream",
     "name": "stdout",
     "output_type": "stream",
     "text": [
      "+-----+------+----+------------+-------------+------------+-------------+--------------+-----------------+----+---------------+------+\n|   id|gender| age|hypertension|heart_disease|ever_married|    work_type|Residence_type|avg_glucose_level| bmi| smoking_status|stroke|\n+-----+------+----+------------+-------------+------------+-------------+--------------+-----------------+----+---------------+------+\n| 9046|  Male|67.0|           0|            1|         Yes|      Private|         Urban|           228.69|36.6|formerly smoked|     1|\n|51676|Female|61.0|           0|            0|         Yes|Self-employed|         Rural|           202.21| N/A|   never smoked|     1|\n+-----+------+----+------------+-------------+------------+-------------+--------------+-----------------+----+---------------+------+\nonly showing top 2 rows\n\n"
     ]
    }
   ],
   "source": [
    "###Dataset: https://github.com/corredor-john/ExploratoryDataAnalisys/blob/main/Varios/stroke_pyspark.csv\n",
    "\n",
    "url =\"/FileStore/tables/stroke_pyspark.csv\"\n",
    "df00Stroke00 = spark.read.csv(url, header=True, inferSchema=True)\n",
    "\n",
    "\n",
    "# Muestra las primeras 5 filas del DataFrame.\n",
    "df00Stroke00.show(2)\n",
    "\n",
    "\n"
   ]
  },
  {
   "cell_type": "markdown",
   "metadata": {
    "application/vnd.databricks.v1+cell": {
     "cellMetadata": {
      "byteLimit": 2048000,
      "rowLimit": 10000
     },
     "inputWidgets": {},
     "nuid": "da0f0454-d6e7-407f-b7e5-e34e128683d3",
     "showTitle": false,
     "tableResultSettingsMap": {},
     "title": ""
    }
   },
   "source": [
    "### Entendiendo la estructura del dataFrame\n",
    "Se imprime el nombre de las columnas y la estructura de cada una de ellas"
   ]
  },
  {
   "cell_type": "code",
   "execution_count": 0,
   "metadata": {
    "application/vnd.databricks.v1+cell": {
     "cellMetadata": {
      "byteLimit": 2048000,
      "rowLimit": 10000
     },
     "inputWidgets": {},
     "nuid": "30f3bbca-ee59-4c4c-b99b-7c088f886e5a",
     "showTitle": false,
     "tableResultSettingsMap": {},
     "title": ""
    }
   },
   "outputs": [
    {
     "output_type": "execute_result",
     "data": {
      "text/plain": [
       "['id',\n",
       " 'gender',\n",
       " 'age',\n",
       " 'hypertension',\n",
       " 'heart_disease',\n",
       " 'ever_married',\n",
       " 'work_type',\n",
       " 'Residence_type',\n",
       " 'avg_glucose_level',\n",
       " 'bmi',\n",
       " 'smoking_status',\n",
       " 'stroke']"
      ]
     },
     "execution_count": 4,
     "metadata": {},
     "output_type": "execute_result"
    }
   ],
   "source": [
    "#Nombre de columnas\n",
    "df00Stroke00.columns"
   ]
  },
  {
   "cell_type": "code",
   "execution_count": 0,
   "metadata": {
    "application/vnd.databricks.v1+cell": {
     "cellMetadata": {
      "byteLimit": 2048000,
      "rowLimit": 10000
     },
     "inputWidgets": {},
     "nuid": "6654f2ea-052c-4b28-8d1b-cfdced9b9ebe",
     "showTitle": false,
     "tableResultSettingsMap": {},
     "title": ""
    }
   },
   "outputs": [
    {
     "output_type": "stream",
     "name": "stdout",
     "output_type": "stream",
     "text": [
      "root\n |-- id: integer (nullable = true)\n |-- gender: string (nullable = true)\n |-- age: double (nullable = true)\n |-- hypertension: integer (nullable = true)\n |-- heart_disease: integer (nullable = true)\n |-- ever_married: string (nullable = true)\n |-- work_type: string (nullable = true)\n |-- Residence_type: string (nullable = true)\n |-- avg_glucose_level: double (nullable = true)\n |-- bmi: string (nullable = true)\n |-- smoking_status: string (nullable = true)\n |-- stroke: integer (nullable = true)\n\n"
     ]
    }
   ],
   "source": [
    "### Tipo de datos\n",
    "df00Stroke00.printSchema()"
   ]
  },
  {
   "cell_type": "markdown",
   "metadata": {
    "application/vnd.databricks.v1+cell": {
     "cellMetadata": {
      "byteLimit": 2048000,
      "rowLimit": 10000
     },
     "inputWidgets": {},
     "nuid": "e00f3b2b-1d6f-4c99-ae2b-b53574b8d23d",
     "showTitle": false,
     "tableResultSettingsMap": {},
     "title": ""
    }
   },
   "source": [
    "###Exploración y Limpieza de Datos\n",
    "Asignación de Nuevos Nombres de Columnas:\n"
   ]
  },
  {
   "cell_type": "code",
   "execution_count": 0,
   "metadata": {
    "application/vnd.databricks.v1+cell": {
     "cellMetadata": {
      "byteLimit": 2048000,
      "rowLimit": 10000
     },
     "inputWidgets": {},
     "nuid": "6aad69a7-0653-4671-ab1e-38bcad8da839",
     "showTitle": false,
     "tableResultSettingsMap": {},
     "title": ""
    },
    "scrolled": true
   },
   "outputs": [
    {
     "output_type": "execute_result",
     "data": {
      "text/plain": [
       "['ID',\n",
       " 'Genero',\n",
       " 'Edad',\n",
       " 'Hipertension',\n",
       " 'Enfermedad',\n",
       " 'Casado',\n",
       " 'Trabajo',\n",
       " 'Tipo_Residencia',\n",
       " 'Nivel_Prom_GlucosA',\n",
       " 'IMC',\n",
       " 'Fumador',\n",
       " 'Paro_Cardiaco']"
      ]
     },
     "execution_count": 93,
     "metadata": {},
     "output_type": "execute_result"
    }
   ],
   "source": [
    "### Se requiere cambiar los nombres de las Columnas\n",
    "nuevosNombres = ['ID','Genero', 'Edad', 'Hipertension', 'Enfermedad', 'Casado', 'Trabajo', 'Tipo_Residencia', \n",
    "                 'Nivel_Prom_GlucosA', 'IMC', 'Fumador', 'Paro_Cardiaco']\n",
    "df00Stroke01= df00Stroke00\n",
    "\n",
    "###Bucle para cambio de nombre\n",
    "for antes, nuevo in zip(df00Stroke01.columns, nuevosNombres):\n",
    "        df00Stroke01= df00Stroke01.withColumnRenamed(antes, nuevo)\n",
    "\n",
    "\n",
    "df00Stroke01.columns"
   ]
  },
  {
   "cell_type": "markdown",
   "metadata": {
    "application/vnd.databricks.v1+cell": {
     "cellMetadata": {
      "byteLimit": 2048000,
      "rowLimit": 10000
     },
     "inputWidgets": {},
     "nuid": "a03501b7-5180-4f2a-89cc-9dc2c1e30c7a",
     "showTitle": false,
     "tableResultSettingsMap": {},
     "title": ""
    }
   },
   "source": [
    "Cambio del Tipo de Dato de la Columna '**IMC**' a **DoubleType**\n"
   ]
  },
  {
   "cell_type": "code",
   "execution_count": 0,
   "metadata": {
    "application/vnd.databricks.v1+cell": {
     "cellMetadata": {
      "byteLimit": 2048000,
      "rowLimit": 10000
     },
     "inputWidgets": {},
     "nuid": "f3b09003-6e46-4aba-b4d7-5d9799f9aec8",
     "showTitle": false,
     "tableResultSettingsMap": {},
     "title": ""
    }
   },
   "outputs": [
    {
     "output_type": "stream",
     "name": "stdout",
     "output_type": "stream",
     "text": [
      "root\n |-- ID: integer (nullable = true)\n |-- Genero: string (nullable = true)\n |-- Edad: double (nullable = true)\n |-- Hipertension: integer (nullable = true)\n |-- Enfermedad: integer (nullable = true)\n |-- Casado: string (nullable = true)\n |-- Trabajo: string (nullable = true)\n |-- Tipo_Residencia: string (nullable = true)\n |-- Nivel_Prom_GlucosA: double (nullable = true)\n |-- IMC: double (nullable = true)\n |-- Fumador: string (nullable = true)\n |-- Paro_Cardiaco: integer (nullable = true)\n\n"
     ]
    }
   ],
   "source": [
    "### Se requiere cambiar los nombres de las Columnas\n",
    "\n",
    "df00Stroke01=df00Stroke01.withColumn('IMC', df00Stroke01.IMC.cast(DoubleType()))\n",
    "df00Stroke01.printSchema()\n"
   ]
  },
  {
   "cell_type": "markdown",
   "metadata": {
    "application/vnd.databricks.v1+cell": {
     "cellMetadata": {
      "byteLimit": 2048000,
      "rowLimit": 10000
     },
     "inputWidgets": {},
     "nuid": "677944c6-a3a5-4362-8971-b154a822b5ef",
     "showTitle": false,
     "tableResultSettingsMap": {},
     "title": ""
    }
   },
   "source": [
    "Conteo de Valores Nulos por Columna"
   ]
  },
  {
   "cell_type": "code",
   "execution_count": 0,
   "metadata": {
    "application/vnd.databricks.v1+cell": {
     "cellMetadata": {
      "byteLimit": 2048000,
      "rowLimit": 10000
     },
     "inputWidgets": {},
     "nuid": "d1ba5f96-ed79-4548-9ec5-557cc9062032",
     "showTitle": false,
     "tableResultSettingsMap": {},
     "title": ""
    }
   },
   "outputs": [
    {
     "output_type": "stream",
     "name": "stdout",
     "output_type": "stream",
     "text": [
      "+---+------+----+------------+----------+------+-------+---------------+------------------+---+-------+-------------+\n| ID|Genero|Edad|Hipertension|Enfermedad|Casado|Trabajo|Tipo_Residencia|Nivel_Prom_GlucosA|IMC|Fumador|Paro_Cardiaco|\n+---+------+----+------------+----------+------+-------+---------------+------------------+---+-------+-------------+\n|  0|     0|   0|           0|         0|     0|      0|              0|                 0|201|      0|            0|\n+---+------+----+------------+----------+------+-------+---------------+------------------+---+-------+-------------+\n\n"
     ]
    }
   ],
   "source": [
    "### pend foto\n",
    "\n",
    "df00Stroke01.select([count(when(isnan(c) | col(c).isNull(), c)).alias(c) for c in df00Stroke01.columns]).show()"
   ]
  },
  {
   "cell_type": "markdown",
   "metadata": {
    "application/vnd.databricks.v1+cell": {
     "cellMetadata": {
      "byteLimit": 2048000,
      "rowLimit": 10000
     },
     "inputWidgets": {},
     "nuid": "c3ba5d56-c949-4aae-a0a5-97cebd7727c7",
     "showTitle": false,
     "tableResultSettingsMap": {},
     "title": ""
    }
   },
   "source": [
    "Conteo Total de Filas en el DataFrame"
   ]
  },
  {
   "cell_type": "code",
   "execution_count": 0,
   "metadata": {
    "application/vnd.databricks.v1+cell": {
     "cellMetadata": {
      "byteLimit": 2048000,
      "rowLimit": 10000
     },
     "inputWidgets": {},
     "nuid": "61aae3e7-ec61-4588-a2a5-5bf61f9aee69",
     "showTitle": false,
     "tableResultSettingsMap": {},
     "title": ""
    }
   },
   "outputs": [
    {
     "output_type": "execute_result",
     "data": {
      "text/plain": [
       "5110"
      ]
     },
     "execution_count": 97,
     "metadata": {},
     "output_type": "execute_result"
    }
   ],
   "source": [
    "df00Stroke01.count()"
   ]
  },
  {
   "cell_type": "markdown",
   "metadata": {
    "application/vnd.databricks.v1+cell": {
     "cellMetadata": {
      "byteLimit": 2048000,
      "rowLimit": 10000
     },
     "inputWidgets": {},
     "nuid": "7db56f77-c6e6-4ead-bcc2-3e421a428ffa",
     "showTitle": false,
     "tableResultSettingsMap": {},
     "title": ""
    }
   },
   "source": [
    "Cálculo del Porcentaje de Valores Nulos en la Columna 'IMC'"
   ]
  },
  {
   "cell_type": "code",
   "execution_count": 0,
   "metadata": {
    "application/vnd.databricks.v1+cell": {
     "cellMetadata": {
      "byteLimit": 2048000,
      "rowLimit": 10000
     },
     "inputWidgets": {},
     "nuid": "7d5766cd-6ace-4667-b164-dcbc6a087a99",
     "showTitle": false,
     "tableResultSettingsMap": {},
     "title": ""
    }
   },
   "outputs": [
    {
     "output_type": "stream",
     "name": "stdout",
     "output_type": "stream",
     "text": [
      "Se tiene una porción de 3.93%\n"
     ]
    }
   ],
   "source": [
    "#201 = Num de valores nulos en columna IMC\n",
    "\n",
    "nulos= (201/df00Stroke01.count())*100     #Calcula el porcentaje\n",
    "print(f\"Se tiene una porción de {round(nulos,2)}%\")"
   ]
  },
  {
   "cell_type": "markdown",
   "metadata": {
    "application/vnd.databricks.v1+cell": {
     "cellMetadata": {
      "byteLimit": 2048000,
      "rowLimit": 10000
     },
     "inputWidgets": {},
     "nuid": "dc678ae3-2adb-422b-be0d-aa155b7da6f1",
     "showTitle": false,
     "tableResultSettingsMap": {},
     "title": ""
    }
   },
   "source": [
    "Conteo de Registros por Género en el DataFrame"
   ]
  },
  {
   "cell_type": "code",
   "execution_count": 0,
   "metadata": {
    "application/vnd.databricks.v1+cell": {
     "cellMetadata": {
      "byteLimit": 2048000,
      "rowLimit": 10000
     },
     "inputWidgets": {},
     "nuid": "564169a4-957a-4a5b-b525-ded0b3af2fd5",
     "showTitle": false,
     "tableResultSettingsMap": {},
     "title": ""
    }
   },
   "outputs": [
    {
     "output_type": "stream",
     "name": "stdout",
     "output_type": "stream",
     "text": [
      "+------+-----+\n|Genero|count|\n+------+-----+\n|Female| 2994|\n| Other|    1|\n|  Male| 2115|\n+------+-----+\n\n"
     ]
    }
   ],
   "source": [
    "## Se observa las categorias Género, realiza el conteo y los imprime.\n",
    "\n",
    "df00Stroke01.groupby([\"Genero\"]).count().show()\n"
   ]
  },
  {
   "cell_type": "markdown",
   "metadata": {
    "application/vnd.databricks.v1+cell": {
     "cellMetadata": {
      "byteLimit": 2048000,
      "rowLimit": 10000
     },
     "inputWidgets": {},
     "nuid": "c697d93b-15a4-4c10-8ee7-517db60c6138",
     "showTitle": false,
     "tableResultSettingsMap": {},
     "title": ""
    }
   },
   "source": [
    "Filtrado y Conteo de Registros por Género (Excluyendo 'Other')"
   ]
  },
  {
   "cell_type": "code",
   "execution_count": 0,
   "metadata": {
    "application/vnd.databricks.v1+cell": {
     "cellMetadata": {
      "byteLimit": 2048000,
      "rowLimit": 10000
     },
     "inputWidgets": {},
     "nuid": "a95d82c5-0227-489e-8b85-1fc1e2281fa1",
     "showTitle": false,
     "tableResultSettingsMap": {},
     "title": ""
    }
   },
   "outputs": [
    {
     "output_type": "stream",
     "name": "stdout",
     "output_type": "stream",
     "text": [
      "+------+-----+\n|Genero|count|\n+------+-----+\n|Female| 2994|\n|  Male| 2115|\n+------+-----+\n\n"
     ]
    }
   ],
   "source": [
    "\n",
    "##Se elimina el Other en los Datos\n",
    "df00Stroke02= df00Stroke01.where(\"Genero <> 'Other'\")   #excluye las filas donde la columna 'Genero' tenga el valor 'Other'\n",
    "df00Stroke02.groupby(['Genero']).count().show()         #conteo por género\n"
   ]
  },
  {
   "cell_type": "markdown",
   "metadata": {
    "application/vnd.databricks.v1+cell": {
     "cellMetadata": {
      "byteLimit": 2048000,
      "rowLimit": 10000
     },
     "inputWidgets": {},
     "nuid": "d344a0cd-c80d-43d6-b279-a29aa25e55da",
     "showTitle": false,
     "tableResultSettingsMap": {},
     "title": ""
    }
   },
   "source": [
    "Cálculo del Promedio de IMC para Mujeres Menores de 10 Años"
   ]
  },
  {
   "cell_type": "code",
   "execution_count": 0,
   "metadata": {
    "application/vnd.databricks.v1+cell": {
     "cellMetadata": {
      "byteLimit": 2048000,
      "rowLimit": 10000
     },
     "inputWidgets": {},
     "nuid": "b04c9d58-e45c-4eaa-ac6b-337f4a2c6266",
     "showTitle": false,
     "tableResultSettingsMap": {},
     "title": ""
    }
   },
   "outputs": [
    {
     "output_type": "stream",
     "name": "stdout",
     "output_type": "stream",
     "text": [
      "Promedio IMC para mujeres menores de 10 años 18.687962962962963\n"
     ]
    }
   ],
   "source": [
    "###Se estrarifica por edades y por genero, de manera que cada 10 años se saca el promedio  IMC y por genero.\n",
    "\n",
    "#Filtra Genero = Female y Edad < 10.\n",
    "#Calcula el promedio de la columna IMC para las filas que cumplen las condiciones previas\n",
    "AvIMC_0_10 = df00Stroke02.where((col(\"Genero\") == lit(\"Female\")) & (col(\"Edad\")<10)).select(mean(col(\"IMC\"))).collect()[0][0]\n",
    "print(\"Promedio IMC para mujeres menores de 10 años\", AvIMC_0_10)"
   ]
  },
  {
   "cell_type": "markdown",
   "metadata": {
    "application/vnd.databricks.v1+cell": {
     "cellMetadata": {
      "byteLimit": 2048000,
      "rowLimit": 10000
     },
     "inputWidgets": {},
     "nuid": "5701f1bf-e904-4be3-8bfc-a969c34e6a82",
     "showTitle": false,
     "tableResultSettingsMap": {},
     "title": ""
    }
   },
   "source": [
    "Función para Calcular Promedio y Reemplazar Valores Nulos en una Columna"
   ]
  },
  {
   "cell_type": "code",
   "execution_count": 0,
   "metadata": {
    "application/vnd.databricks.v1+cell": {
     "cellMetadata": {
      "byteLimit": 2048000,
      "rowLimit": 10000
     },
     "inputWidgets": {},
     "nuid": "35726888-fa2f-47c6-88b3-c86086f7c289",
     "showTitle": false,
     "tableResultSettingsMap": {},
     "title": ""
    }
   },
   "outputs": [],
   "source": [
    "#Se hace la funcion que calcula un promedio y reemplaza valores nulos del Dataframe\n",
    "\n",
    "\n",
    "def cambioPromedio(df, col01, catGenero, col02, minEdad, maxEdad, col03):\n",
    "\n",
    "    # Calcula el promedio de la columna `col03` filtrando por `col01` (por ejemplo, 'Genero') y rango de edades\n",
    "    prom = df.where((col(col01) == lit(catGenero)) & (col(col02) > minEdad) & (col(col02) < maxEdad)).select(mean(col(col03))).collect()[0][0]\n",
    "    print(prom)\n",
    "\n",
    "    # Crea un nuevo DataFrame `dfResul` donde los valores nulos de `col03` se reemplazan por el promedio `prom`\n",
    "    dfResul = df.withColumn(col03, when(((df[col01] == catGenero) & (df[col03].isNull()) & (df[col02]<maxEdad)), prom).otherwise(df[col03]))\n",
    "    \n",
    "    # Retorna el DataFrame resultante con la columna actualizada\n",
    "    return dfResul\n",
    "\n"
   ]
  },
  {
   "cell_type": "markdown",
   "metadata": {
    "application/vnd.databricks.v1+cell": {
     "cellMetadata": {
      "byteLimit": 2048000,
      "rowLimit": 10000
     },
     "inputWidgets": {},
     "nuid": "c12af1b3-6b6e-4e53-972c-3c4af72940f2",
     "showTitle": false,
     "tableResultSettingsMap": {},
     "title": ""
    }
   },
   "source": [
    "Visualización del Promedio de IMC Calculado y Conteo de Valores Nulos Restantes"
   ]
  },
  {
   "cell_type": "code",
   "execution_count": 0,
   "metadata": {
    "application/vnd.databricks.v1+cell": {
     "cellMetadata": {
      "byteLimit": 2048000,
      "rowLimit": 10000
     },
     "inputWidgets": {},
     "nuid": "bb5f68d1-afd9-42c1-9433-9ce35420e9d2",
     "showTitle": false,
     "tableResultSettingsMap": {},
     "title": ""
    }
   },
   "outputs": [
    {
     "output_type": "stream",
     "name": "stdout",
     "output_type": "stream",
     "text": [
      "18.687962962962963\nEl promedio de IMC para mujeres menores de 10 años es: 18.69\nVista previa de las primeras 5 filas del DataFrame actualizado:\n+-----+------+----+------------+----------+------+-------------+---------------+------------------+----+---------------+-------------+\n|   ID|Genero|Edad|Hipertension|Enfermedad|Casado|      Trabajo|Tipo_Residencia|Nivel_Prom_GlucosA| IMC|        Fumador|Paro_Cardiaco|\n+-----+------+----+------------+----------+------+-------------+---------------+------------------+----+---------------+-------------+\n| 9046|  Male|67.0|           0|         1|   Yes|      Private|          Urban|            228.69|36.6|formerly smoked|            1|\n|51676|Female|61.0|           0|         0|   Yes|Self-employed|          Rural|            202.21|NULL|   never smoked|            1|\n|31112|  Male|80.0|           0|         1|   Yes|      Private|          Rural|            105.92|32.5|   never smoked|            1|\n|60182|Female|49.0|           0|         0|   Yes|      Private|          Urban|            171.23|34.4|         smokes|            1|\n| 1665|Female|79.0|           1|         0|   Yes|Self-employed|          Rural|            174.12|24.0|   never smoked|            1|\n+-----+------+----+------------+----------+------+-------------+---------------+------------------+----+---------------+-------------+\nonly showing top 5 rows\n\nEl número de valores nulos restantes en la columna 'IMC' es: 196\n"
     ]
    }
   ],
   "source": [
    "# Llama a la función y guarda el DataFrame resultante\n",
    "dfActualizado = cambioPromedio(df00Stroke02, \"Genero\", \"Female\", \"Edad\", 0, 10, \"IMC\")\n",
    "\n",
    "print(f\"El promedio de IMC para mujeres menores de 10 años es: {round(AvIMC_0_10, 2)}\")\n",
    "\n",
    "print(\"Vista previa de las primeras 5 filas del DataFrame actualizado:\")\n",
    "dfActualizado.show(5)\n",
    "\n",
    "# Verifica cuántos valores nulos quedan en la columna 'IMC'\n",
    "num_nulos_restantes = dfActualizado.select(\"IMC\").filter(col(\"IMC\").isNull()).count()\n",
    "print(f\"El número de valores nulos restantes en la columna 'IMC' es: {num_nulos_restantes}\")\n",
    "\n"
   ]
  },
  {
   "cell_type": "markdown",
   "metadata": {
    "application/vnd.databricks.v1+cell": {
     "cellMetadata": {
      "byteLimit": 2048000,
      "rowLimit": 10000
     },
     "inputWidgets": {},
     "nuid": "329e359a-10be-4655-9825-0741e9adff10",
     "showTitle": false,
     "tableResultSettingsMap": {},
     "title": ""
    }
   },
   "source": [
    "###Relleno de Valores Nulos en IMC por Intervalos de Edad de 10 Años para Mujeres\n",
    "Rellena los valores nulos en la columna IMC del DataFrame para mujeres, dividiendo los datos en intervalos de edad de 10 años. Se calcula el promedio de IMC para cada intervalo (0-10, 10-20, etc.) y se utiliza ese promedio para reemplazar los valores nulos en la columna IMC de las mujeres en ese rango de edad. Al final, se imprime el último rango de edad procesado para confirmar que se completó el bucle."
   ]
  },
  {
   "cell_type": "code",
   "execution_count": 0,
   "metadata": {
    "application/vnd.databricks.v1+cell": {
     "cellMetadata": {
      "byteLimit": 2048000,
      "rowLimit": 10000
     },
     "inputWidgets": {},
     "nuid": "badae811-9bb0-4878-94b9-d7218c8b57a1",
     "showTitle": false,
     "tableResultSettingsMap": {},
     "title": ""
    }
   },
   "outputs": [
    {
     "output_type": "stream",
     "name": "stdout",
     "output_type": "stream",
     "text": [
      "18.687962962962963\n25.553556485355664\n28.418373493975906\n31.142359249329765\n31.123333333333324\n31.915686274509792\n30.62181208053691\n29.3374558303887\n28.101428571428578\nNone\n90 100\n"
     ]
    }
   ],
   "source": [
    "df00Stroke03 = df00Stroke02\n",
    "for promedio in range(0,100,10):\n",
    "    df00Stroke03 = cambioPromedio(df00Stroke03, \"Genero\", \"Female\", \"Edad\", promedio, promedio+10, \"IMC\")\n",
    "print(promedio, promedio+10)\n"
   ]
  },
  {
   "cell_type": "markdown",
   "metadata": {
    "application/vnd.databricks.v1+cell": {
     "cellMetadata": {
      "byteLimit": 2048000,
      "rowLimit": 10000
     },
     "inputWidgets": {},
     "nuid": "6517b506-36e2-436f-9af8-51c74be43f25",
     "showTitle": false,
     "tableResultSettingsMap": {},
     "title": ""
    }
   },
   "source": [
    "Visualización de Promedios de IMC por Intervalos de Edad"
   ]
  },
  {
   "cell_type": "code",
   "execution_count": 0,
   "metadata": {
    "application/vnd.databricks.v1+cell": {
     "cellMetadata": {
      "byteLimit": 2048000,
      "rowLimit": 10000
     },
     "inputWidgets": {},
     "nuid": "e9edbbc6-ef3f-4413-8e04-02cfbb92da1b",
     "showTitle": false,
     "tableResultSettingsMap": {},
     "title": ""
    }
   },
   "outputs": [
    {
     "output_type": "stream",
     "name": "stdout",
     "output_type": "stream",
     "text": [
      "\nTabla de promedios de IMC por rango de edad:\n+-----------------+--------------+------------------+\n|Rango_Edad_Inicio|Rango_Edad_Fin|Promedio_IMC      |\n+-----------------+--------------+------------------+\n|0                |10            |18.68796296296296 |\n|10               |20            |25.553556485355667|\n|20               |30            |28.418373493975906|\n|30               |40            |31.142359249329775|\n|40               |50            |31.12333333333332 |\n|50               |60            |31.915686274509778|\n|60               |70            |30.621812080536895|\n|70               |80            |29.33745583038868 |\n|80               |90            |28.101428571428578|\n|90               |100           |NULL              |\n+-----------------+--------------+------------------+\n\n"
     ]
    }
   ],
   "source": [
    "from pyspark.sql import Row\n",
    "resultados_promedios = []\n",
    "\n",
    "# Itera sobre los intervalos de edad y calcula los promedios de IMC\n",
    "for promedio in range(0, 100, 10):\n",
    "    promedio_calculado = df00Stroke03.where(\n",
    "        (col(\"Genero\") == lit(\"Female\")) &  (col(\"Edad\") > promedio) & (col(\"Edad\") < promedio + 10)).select(mean(col(\"IMC\"))).collect()[0][0]  # Calcula el promedio de IMC\n",
    "    resultados_promedios.append(Row(Rango_Edad_Inicio=promedio, Rango_Edad_Fin=promedio + 10, Promedio_IMC=promedio_calculado))\n",
    "\n",
    "# Crea un nuevo df  a partir de la lista de resultados\n",
    "df_resultados_spark = spark.createDataFrame(resultados_promedios)\n",
    "\n",
    "print(\"\\nTabla de promedios de IMC por rango de edad:\")\n",
    "df_resultados_spark.show(truncate=False)\n"
   ]
  },
  {
   "cell_type": "code",
   "execution_count": 0,
   "metadata": {
    "application/vnd.databricks.v1+cell": {
     "cellMetadata": {
      "byteLimit": 2048000,
      "rowLimit": 10000
     },
     "inputWidgets": {},
     "nuid": "ce7f39ac-dd39-471e-a594-a6a88d1b07d9",
     "showTitle": false,
     "tableResultSettingsMap": {},
     "title": ""
    }
   },
   "outputs": [
    {
     "output_type": "stream",
     "name": "stdout",
     "output_type": "stream",
     "text": [
      "+-----+------+----+------------+----------+------+-------------+---------------+------------------+-----------------+---------------+-------------+\n|   ID|Genero|Edad|Hipertension|Enfermedad|Casado|      Trabajo|Tipo_Residencia|Nivel_Prom_GlucosA|              IMC|        Fumador|Paro_Cardiaco|\n+-----+------+----+------------+----------+------+-------------+---------------+------------------+-----------------+---------------+-------------+\n| 9046|  Male|67.0|           0|         1|   Yes|      Private|          Urban|            228.69|             36.6|formerly smoked|            1|\n|51676|Female|61.0|           0|         0|   Yes|Self-employed|          Rural|            202.21|30.62181208053691|   never smoked|            1|\n|31112|  Male|80.0|           0|         1|   Yes|      Private|          Rural|            105.92|             32.5|   never smoked|            1|\n|60182|Female|49.0|           0|         0|   Yes|      Private|          Urban|            171.23|             34.4|         smokes|            1|\n| 1665|Female|79.0|           1|         0|   Yes|Self-employed|          Rural|            174.12|             24.0|   never smoked|            1|\n+-----+------+----+------------+----------+------+-------------+---------------+------------------+-----------------+---------------+-------------+\nonly showing top 5 rows\n\n"
     ]
    }
   ],
   "source": [
    "# Muestra las primeras 5 filas del DataFrame.\n",
    "df00Stroke03.show(5)\n"
   ]
  },
  {
   "cell_type": "markdown",
   "metadata": {
    "application/vnd.databricks.v1+cell": {
     "cellMetadata": {
      "byteLimit": 2048000,
      "rowLimit": 10000
     },
     "inputWidgets": {},
     "nuid": "401af26a-a39b-4b6a-a979-943a702b174a",
     "showTitle": false,
     "tableResultSettingsMap": {},
     "title": ""
    }
   },
   "source": [
    "Visualización Grafica con matplotlib"
   ]
  },
  {
   "cell_type": "code",
   "execution_count": 0,
   "metadata": {
    "application/vnd.databricks.v1+cell": {
     "cellMetadata": {
      "byteLimit": 2048000,
      "rowLimit": 10000
     },
     "inputWidgets": {},
     "nuid": "c0dfea7c-a191-49f3-84d8-8f21c1780c25",
     "showTitle": false,
     "tableResultSettingsMap": {},
     "title": ""
    }
   },
   "outputs": [
    {
     "output_type": "display_data",
     "data": {
      "image/png": "[encoded data removed]",
      "text/plain": [
       "<Figure size 1200x600 with 1 Axes>"
      ]
     },
     "metadata": {},
     "output_type": "display_data"
    }
   ],
   "source": [
    "import matplotlib.pyplot as plt\n",
    "\n",
    "# Convierte el DataFrame de PySpark a un DataFrame de Pandas para facilitar la visualización\n",
    "df_resultados_pandas = df_resultados_spark.toPandas()\n",
    "\n",
    "plt.figure(figsize=(12, 6))\n",
    "plt.plot(df_resultados_pandas['Rango_Edad_Inicio'], df_resultados_pandas['Promedio_IMC'], marker='o', linestyle='-', color='b')\n",
    "\n",
    "plt.title('Promedio de IMC por Rango de Edad (Mujeres)')\n",
    "plt.xlabel('Edad (Inicio del Rango)')\n",
    "plt.ylabel('Promedio de IMC')\n",
    "plt.xticks(df_resultados_pandas['Rango_Edad_Inicio'])\n",
    "plt.grid(True)\n",
    "\n",
    "plt.show()\n"
   ]
  },
  {
   "cell_type": "code",
   "execution_count": 0,
   "metadata": {
    "application/vnd.databricks.v1+cell": {
     "cellMetadata": {
      "byteLimit": 2048000,
      "rowLimit": 10000
     },
     "inputWidgets": {},
     "nuid": "be923da3-6e9e-4aad-915d-be28d9f04a2f",
     "showTitle": false,
     "tableResultSettingsMap": {},
     "title": ""
    }
   },
   "outputs": [
    {
     "output_type": "stream",
     "name": "stdout",
     "output_type": "stream",
     "text": [
      "+-----+------+----+------------+----------+------+-------------+---------------+------------------+-----------------+---------------+-------------+\n|   ID|Genero|Edad|Hipertension|Enfermedad|Casado|      Trabajo|Tipo_Residencia|Nivel_Prom_GlucosA|              IMC|        Fumador|Paro_Cardiaco|\n+-----+------+----+------------+----------+------+-------------+---------------+------------------+-----------------+---------------+-------------+\n| 9046|  Male|67.0|           0|         1|   Yes|      Private|          Urban|            228.69|             36.6|formerly smoked|            1|\n|51676|Female|61.0|           0|         0|   Yes|Self-employed|          Rural|            202.21|30.62181208053691|   never smoked|            1|\n|31112|  Male|80.0|           0|         1|   Yes|      Private|          Rural|            105.92|             32.5|   never smoked|            1|\n|60182|Female|49.0|           0|         0|   Yes|      Private|          Urban|            171.23|             34.4|         smokes|            1|\n| 1665|Female|79.0|           1|         0|   Yes|Self-employed|          Rural|            174.12|             24.0|   never smoked|            1|\n+-----+------+----+------------+----------+------+-------------+---------------+------------------+-----------------+---------------+-------------+\nonly showing top 5 rows\n\n+---+------+----+------------+----------+------+-------+---------------+------------------+---+-------+-------------+\n| ID|Genero|Edad|Hipertension|Enfermedad|Casado|Trabajo|Tipo_Residencia|Nivel_Prom_GlucosA|IMC|Fumador|Paro_Cardiaco|\n+---+------+----+------------+----------+------+-------+---------------+------------------+---+-------+-------------+\n|  0|     0|   0|           0|         0|     0|      0|              0|                 0|104|      0|            0|\n+---+------+----+------------+----------+------+-------+---------------+------------------+---+-------+-------------+\n\n"
     ]
    }
   ],
   "source": [
    "df00Stroke03.show(5)\n",
    "df00Stroke03.select([count(when(isnan(c) | col(c).isNull(), c)).alias(c) for c in df00Stroke03.columns]).show()"
   ]
  },
  {
   "cell_type": "markdown",
   "metadata": {
    "application/vnd.databricks.v1+cell": {
     "cellMetadata": {
      "byteLimit": 2048000,
      "rowLimit": 10000
     },
     "inputWidgets": {},
     "nuid": "89ba22f3-1f9c-40d8-b8bf-5ac95cb684ad",
     "showTitle": false,
     "tableResultSettingsMap": {},
     "title": ""
    }
   },
   "source": [
    "###Uso de libreria MLlib\n",
    "\n"
   ]
  },
  {
   "cell_type": "markdown",
   "metadata": {
    "application/vnd.databricks.v1+cell": {
     "cellMetadata": {
      "byteLimit": 2048000,
      "rowLimit": 10000
     },
     "inputWidgets": {},
     "nuid": "b514cdda-5cec-432e-928e-514b7fda96d0",
     "showTitle": false,
     "tableResultSettingsMap": {},
     "title": ""
    }
   },
   "source": [
    "1. Preparación del Entorno\n"
   ]
  },
  {
   "cell_type": "code",
   "execution_count": 0,
   "metadata": {
    "application/vnd.databricks.v1+cell": {
     "cellMetadata": {
      "byteLimit": 2048000,
      "rowLimit": 10000
     },
     "inputWidgets": {},
     "nuid": "37f6d3ee-6aa6-4996-a5d8-58c1024e7121",
     "showTitle": false,
     "tableResultSettingsMap": {},
     "title": ""
    }
   },
   "outputs": [],
   "source": [
    "from pyspark.ml.feature import VectorAssembler, StringIndexer\n",
    "from pyspark.ml.classification import LogisticRegression\n",
    "from pyspark.ml.evaluation import BinaryClassificationEvaluator\n",
    "from pyspark.sql.functions import col\n"
   ]
  },
  {
   "cell_type": "markdown",
   "metadata": {
    "application/vnd.databricks.v1+cell": {
     "cellMetadata": {
      "byteLimit": 2048000,
      "rowLimit": 10000
     },
     "inputWidgets": {},
     "nuid": "ab9db918-1504-4144-91e9-0338d2dafc01",
     "showTitle": false,
     "tableResultSettingsMap": {},
     "title": ""
    }
   },
   "source": [
    "2. Preprocesamiento de los Datos\n"
   ]
  },
  {
   "cell_type": "code",
   "execution_count": 0,
   "metadata": {
    "application/vnd.databricks.v1+cell": {
     "cellMetadata": {
      "byteLimit": 2048000,
      "rowLimit": 10000
     },
     "inputWidgets": {},
     "nuid": "81114bfc-da1f-4b89-bc3b-b944e93e5579",
     "showTitle": false,
     "tableResultSettingsMap": {},
     "title": ""
    }
   },
   "outputs": [],
   "source": [
    "#Indexa columnas categoricas\n",
    "from pyspark.ml.feature import StringIndexer\n",
    "from pyspark.ml import Pipeline\n",
    "\n",
    "# Indexa las columnas categóricas\n",
    "indexer_genero = StringIndexer(inputCol=\"Genero\", outputCol=\"Genero_Idx\")\n",
    "indexer_trabajo = StringIndexer(inputCol=\"Trabajo\", outputCol=\"Trabajo_Idx\")\n",
    "indexer_residencia = StringIndexer(inputCol=\"Tipo_Residencia\", outputCol=\"Residencia_Idx\")\n",
    "indexer_fumador = StringIndexer(inputCol=\"Fumador\", outputCol=\"Fumador_Idx\")\n",
    "indexer_casado = StringIndexer(inputCol=\"Casado\", outputCol=\"Casado_Idx\")\n",
    "\n",
    "# Aplica los indexadores en un pipeline\n",
    "pipeline = Pipeline(stages=[indexer_genero, indexer_trabajo, indexer_residencia, indexer_fumador, indexer_casado])\n",
    "df_indexed = pipeline.fit(df00Stroke03).transform(df00Stroke03)\n",
    "\n",
    "\n",
    "\n"
   ]
  },
  {
   "cell_type": "markdown",
   "metadata": {
    "application/vnd.databricks.v1+cell": {
     "cellMetadata": {
      "byteLimit": 2048000,
      "rowLimit": 10000
     },
     "inputWidgets": {},
     "nuid": "a86afc99-d1a9-403f-8955-4d320e799190",
     "showTitle": false,
     "tableResultSettingsMap": {},
     "title": ""
    }
   },
   "source": [
    "2. Manejo de los valores nulos\n"
   ]
  },
  {
   "cell_type": "code",
   "execution_count": 0,
   "metadata": {
    "application/vnd.databricks.v1+cell": {
     "cellMetadata": {
      "byteLimit": 2048000,
      "rowLimit": 10000
     },
     "inputWidgets": {},
     "nuid": "226d0f41-e4b2-4778-849c-5486327c980e",
     "showTitle": false,
     "tableResultSettingsMap": {},
     "title": ""
    }
   },
   "outputs": [],
   "source": [
    "# Reemplaza valores nulos en columnas numéricas con 0 o un valor adecuado\n",
    "df_indexed = df_indexed.fillna(0, subset=[\"Edad\", \"Hipertension\", \"Enfermedad\", \"Nivel_Prom_GlucosA\", \"IMC\"])\n",
    "\n",
    "# Reemplaza valores nulos en columnas categóricas indexadas\n",
    "df_indexed = df_indexed.fillna(\"Desconocido\", subset=[\"Genero_Idx\", \"Casado_Idx\", \"Trabajo_Idx\", \"Residencia_Idx\", \"Fumador_Idx\"])\n"
   ]
  },
  {
   "cell_type": "code",
   "execution_count": 0,
   "metadata": {
    "application/vnd.databricks.v1+cell": {
     "cellMetadata": {
      "byteLimit": 2048000,
      "rowLimit": 10000
     },
     "inputWidgets": {},
     "nuid": "5847be93-4fb3-49aa-8b53-9e2ab6c84154",
     "showTitle": false,
     "tableResultSettingsMap": {},
     "title": ""
    }
   },
   "outputs": [
    {
     "output_type": "stream",
     "name": "stdout",
     "output_type": "stream",
     "text": [
      "['ID', 'Genero', 'Edad', 'Hipertension', 'Enfermedad', 'Casado', 'Trabajo', 'Tipo_Residencia', 'Nivel_Prom_GlucosA', 'IMC', 'Fumador', 'Paro_Cardiaco', 'Genero_Idx', 'Trabajo_Idx', 'Residencia_Idx', 'Fumador_Idx', 'Casado_Idx']\n"
     ]
    }
   ],
   "source": [
    "# Verifica que todas las columnas se hayan añadido correctamente\n",
    "print(df_indexed.columns)\n"
   ]
  },
  {
   "cell_type": "markdown",
   "metadata": {
    "application/vnd.databricks.v1+cell": {
     "cellMetadata": {
      "byteLimit": 2048000,
      "rowLimit": 10000
     },
     "inputWidgets": {},
     "nuid": "0d86f3f6-8500-47c3-a57b-92d9b8774296",
     "showTitle": false,
     "tableResultSettingsMap": {},
     "title": ""
    }
   },
   "source": [
    "3. Crear un Vector de Características"
   ]
  },
  {
   "cell_type": "code",
   "execution_count": 0,
   "metadata": {
    "application/vnd.databricks.v1+cell": {
     "cellMetadata": {
      "byteLimit": 2048000,
      "rowLimit": 10000
     },
     "inputWidgets": {},
     "nuid": "8d4da15e-b86e-43af-b3ee-832c18bb0256",
     "showTitle": false,
     "tableResultSettingsMap": {},
     "title": ""
    }
   },
   "outputs": [],
   "source": [
    "from pyspark.ml.feature import VectorAssembler\n",
    "\n",
    "# Define las columnas de características\n",
    "feature_cols = [\"Genero_Idx\", \"Edad\", \"Hipertension\", \"Enfermedad\", \"Casado_Idx\", \"Trabajo_Idx\", \n",
    "                \"Residencia_Idx\", \"Nivel_Prom_GlucosA\", \"IMC\", \"Fumador_Idx\"]\n",
    "\n",
    "# Ensambla las características\n",
    "assembler = VectorAssembler(inputCols=feature_cols, outputCol=\"features\", handleInvalid=\"keep\")\n",
    "df_final = assembler.transform(df_indexed)\n",
    "\n"
   ]
  },
  {
   "cell_type": "markdown",
   "metadata": {
    "application/vnd.databricks.v1+cell": {
     "cellMetadata": {
      "byteLimit": 2048000,
      "rowLimit": 10000
     },
     "inputWidgets": {},
     "nuid": "fcf511f5-b466-40f5-a280-a213c8900080",
     "showTitle": false,
     "tableResultSettingsMap": {},
     "title": ""
    }
   },
   "source": [
    "4. Dividir los Datos en Entrenamiento y Prueba\n"
   ]
  },
  {
   "cell_type": "code",
   "execution_count": 0,
   "metadata": {
    "application/vnd.databricks.v1+cell": {
     "cellMetadata": {
      "byteLimit": 2048000,
      "rowLimit": 10000
     },
     "inputWidgets": {},
     "nuid": "d4e90c94-d353-4d26-b398-c76e37a8a829",
     "showTitle": false,
     "tableResultSettingsMap": {},
     "title": ""
    }
   },
   "outputs": [],
   "source": [
    "# Divide el DataFrame en conjuntos de entrenamiento y prueba\n",
    "train_df, test_df = df_final.randomSplit([0.7, 0.3], seed=42)\n"
   ]
  },
  {
   "cell_type": "markdown",
   "metadata": {
    "application/vnd.databricks.v1+cell": {
     "cellMetadata": {
      "byteLimit": 2048000,
      "rowLimit": 10000
     },
     "inputWidgets": {},
     "nuid": "a09d3b25-57f7-45f2-ad9a-9d2986a6e8ba",
     "showTitle": false,
     "tableResultSettingsMap": {},
     "title": ""
    }
   },
   "source": [
    "6. Entrenamiento del modelo de clasificación"
   ]
  },
  {
   "cell_type": "code",
   "execution_count": 0,
   "metadata": {
    "application/vnd.databricks.v1+cell": {
     "cellMetadata": {
      "byteLimit": 2048000,
      "rowLimit": 10000
     },
     "inputWidgets": {},
     "nuid": "f8801d61-22df-4d04-a8cd-8bcc39fa06d1",
     "showTitle": false,
     "tableResultSettingsMap": {},
     "title": ""
    }
   },
   "outputs": [],
   "source": [
    "from pyspark.ml.classification import LogisticRegression\n",
    "\n",
    "# Entrena el modelo de regresión logística\n",
    "lr = LogisticRegression(labelCol=\"Paro_Cardiaco\", featuresCol=\"features\")\n",
    "lr_model = lr.fit(train_df)\n"
   ]
  },
  {
   "cell_type": "markdown",
   "metadata": {
    "application/vnd.databricks.v1+cell": {
     "cellMetadata": {
      "byteLimit": 2048000,
      "rowLimit": 10000
     },
     "inputWidgets": {},
     "nuid": "bf64cf86-8574-4bf4-b29f-eb44881636a5",
     "showTitle": false,
     "tableResultSettingsMap": {},
     "title": ""
    }
   },
   "source": [
    "7. Evaluación del modelo"
   ]
  },
  {
   "cell_type": "code",
   "execution_count": 0,
   "metadata": {
    "application/vnd.databricks.v1+cell": {
     "cellMetadata": {
      "byteLimit": 2048000,
      "rowLimit": 10000
     },
     "inputWidgets": {},
     "nuid": "34edf873-b16b-454c-9592-45dc39d8b378",
     "showTitle": false,
     "tableResultSettingsMap": {},
     "title": ""
    }
   },
   "outputs": [
    {
     "output_type": "stream",
     "name": "stdout",
     "output_type": "stream",
     "text": [
      "+--------------------+-------------+----------+--------------------+\n|            features|Paro_Cardiaco|prediction|         probability|\n+--------------------+-------------+----------+--------------------+\n|(10,[0,1,7,8],[1....|            0|       0.0|[0.97668758677242...|\n|(10,[1,4,7,8],[24...|            0|       0.0|[0.99657448989275...|\n|(10,[1,6,7,8],[33...|            0|       0.0|[0.99518484172739...|\n|[0.0,20.0,0.0,0.0...|            0|       0.0|[0.99658532191746...|\n|(10,[1,6,7,8,9],[...|            0|       0.0|[0.98754048433077...|\n|[1.0,81.0,0.0,0.0...|            1|       0.0|[0.85763655946501...|\n|(10,[1,4,7,8],[23...|            0|       0.0|[0.99670221844515...|\n|(10,[0,1,7,8],[1....|            0|       0.0|[0.80028732034414...|\n|(10,[0,1,6,7,8],[...|            0|       0.0|[0.98938650411353...|\n|(10,[1,6,7,8],[43...|            0|       0.0|[0.98661608266479...|\n+--------------------+-------------+----------+--------------------+\nonly showing top 10 rows\n\nÁrea bajo la curva (AUC): 0.84\n"
     ]
    }
   ],
   "source": [
    "from pyspark.ml.evaluation import BinaryClassificationEvaluator\n",
    "\n",
    "# Realiza las predicciones\n",
    "predictions = lr_model.transform(test_df)\n",
    "predictions.select(\"features\", \"Paro_Cardiaco\", \"prediction\", \"probability\").show(10)\n",
    "\n",
    "# Evalúa el modelo\n",
    "evaluator = BinaryClassificationEvaluator(labelCol=\"Paro_Cardiaco\")\n",
    "auc = evaluator.evaluate(predictions)\n",
    "print(f\"Área bajo la curva (AUC): {auc:.2f}\")\n",
    "\n",
    "\n"
   ]
  },
  {
   "cell_type": "markdown",
   "metadata": {
    "application/vnd.databricks.v1+cell": {
     "cellMetadata": {},
     "inputWidgets": {},
     "nuid": "6fde86a1-2497-4bfa-a333-cf357a184e78",
     "showTitle": false,
     "tableResultSettingsMap": {},
     "title": ""
    }
   },
   "source": [
    "8. Visualización gráfica"
   ]
  },
  {
   "cell_type": "code",
   "execution_count": 0,
   "metadata": {
    "application/vnd.databricks.v1+cell": {
     "cellMetadata": {
      "byteLimit": 2048000,
      "rowLimit": 10000
     },
     "inputWidgets": {},
     "nuid": "c23180c8-7b9d-4d54-b0cc-ad74bdbdc2b9",
     "showTitle": false,
     "tableResultSettingsMap": {},
     "title": ""
    }
   },
   "outputs": [
    {
     "output_type": "display_data",
     "data": {
      "image/png": "[encoded data removed]",
      "text/plain": [
       "<Figure size 640x480 with 1 Axes>"
      ]
     },
     "metadata": {},
     "output_type": "display_data"
    }
   ],
   "source": [
    "from pyspark.ml.evaluation import BinaryClassificationEvaluator\n",
    "import matplotlib.pyplot as plt\n",
    "import numpy as np\n",
    "\n",
    "# Evaluador\n",
    "evaluator = BinaryClassificationEvaluator(labelCol=\"Paro_Cardiaco\", rawPredictionCol=\"probability\", metricName=\"areaUnderROC\")\n",
    "roc_auc = evaluator.evaluate(predictions)\n",
    "\n",
    "# Asumiendo que tienes un array de probabilidades predichas y etiquetas reales\n",
    "probabilities = np.array(predictions.select(\"probability\").rdd.map(lambda row: row[0][1]).collect())\n",
    "labels = np.array(predictions.select(\"Paro_Cardiaco\").rdd.map(lambda row: row).collect())\n",
    "\n",
    "# Calcula la curva ROC\n",
    "from sklearn.metrics import roc_curve, auc\n",
    "\n",
    "fpr, tpr, _ = roc_curve(labels, probabilities)\n",
    "roc_auc_value = auc(fpr, tpr)\n",
    "\n",
    "# Plot de la curva ROC\n",
    "plt.figure()\n",
    "plt.plot(fpr, tpr, color='blue', lw=2, label=f'ROC curve (AUC = {roc_auc_value:.2f})')\n",
    "plt.plot([0, 1], [0, 1], color='gray', linestyle='--')\n",
    "plt.xlabel('False Positive Rate')\n",
    "plt.ylabel('True Positive Rate')\n",
    "plt.title('Receiver Operating Characteristic (ROC) Curve')\n",
    "plt.legend(loc=\"lower right\")\n",
    "plt.show()\n"
   ]
  },
  {
   "cell_type": "markdown",
   "metadata": {
    "application/vnd.databricks.v1+cell": {
     "cellMetadata": {
      "byteLimit": 2048000,
      "rowLimit": 10000
     },
     "inputWidgets": {},
     "nuid": "92e2ca6d-3846-48c0-8ed2-5672e19f22a5",
     "showTitle": false,
     "tableResultSettingsMap": {},
     "title": ""
    }
   },
   "source": [
    "###Predicción con algoritmo Random forest"
   ]
  },
  {
   "cell_type": "code",
   "execution_count": 0,
   "metadata": {
    "application/vnd.databricks.v1+cell": {
     "cellMetadata": {
      "byteLimit": 2048000,
      "rowLimit": 10000
     },
     "inputWidgets": {},
     "nuid": "02a162fa-1a69-4d74-aceb-dd4c274eff88",
     "showTitle": false,
     "tableResultSettingsMap": {},
     "title": ""
    }
   },
   "outputs": [],
   "source": [
    "from pyspark.ml.classification import RandomForestClassifier\n",
    "# Entrena el modelo de clasificación con RandomForestClassifier\n",
    "rf = RandomForestClassifier(labelCol=\"Paro_Cardiaco\", featuresCol=\"features\", numTrees=100)\n",
    "rf_model = rf.fit(train_df)\n"
   ]
  },
  {
   "cell_type": "code",
   "execution_count": 0,
   "metadata": {
    "application/vnd.databricks.v1+cell": {
     "cellMetadata": {
      "byteLimit": 2048000,
      "rowLimit": 10000
     },
     "inputWidgets": {},
     "nuid": "1f555002-2c94-4c06-b940-8658bc747245",
     "showTitle": false,
     "tableResultSettingsMap": {},
     "title": ""
    }
   },
   "outputs": [
    {
     "output_type": "stream",
     "name": "stdout",
     "output_type": "stream",
     "text": [
      "+--------------------+-------------+----------+--------------------+\n|            features|Paro_Cardiaco|prediction|         probability|\n+--------------------+-------------+----------+--------------------+\n|(10,[0,1,7,8],[1....|            0|       0.0|[0.97355962277908...|\n|(10,[1,4,7,8],[24...|            0|       0.0|[0.98370547890324...|\n|(10,[1,6,7,8],[33...|            0|       0.0|[0.97796406717902...|\n|[0.0,20.0,0.0,0.0...|            0|       0.0|[0.98425785583648...|\n|(10,[1,6,7,8,9],[...|            0|       0.0|[0.97799471924194...|\n+--------------------+-------------+----------+--------------------+\nonly showing top 5 rows\n\n"
     ]
    }
   ],
   "source": [
    "# Realiza las predicciones\n",
    "predictions_rf = rf_model.transform(test_df)\n",
    "predictions_rf.select(\"features\", \"Paro_Cardiaco\", \"prediction\", \"probability\").show(5)\n"
   ]
  },
  {
   "cell_type": "code",
   "execution_count": 0,
   "metadata": {
    "application/vnd.databricks.v1+cell": {
     "cellMetadata": {
      "byteLimit": 2048000,
      "rowLimit": 10000
     },
     "inputWidgets": {},
     "nuid": "1d5f26a3-3b70-470c-b416-94a975f4387e",
     "showTitle": false,
     "tableResultSettingsMap": {},
     "title": ""
    }
   },
   "outputs": [
    {
     "output_type": "stream",
     "name": "stdout",
     "output_type": "stream",
     "text": [
      "Área bajo la curva (AUC) para RandomForest: 0.84\n"
     ]
    }
   ],
   "source": [
    "# Evalúa el modelo de RandomForest\n",
    "evaluator_rf = BinaryClassificationEvaluator(labelCol=\"Paro_Cardiaco\")\n",
    "auc_rf = evaluator_rf.evaluate(predictions_rf)\n",
    "print(f\"Área bajo la curva (AUC) para RandomForest: {auc_rf:.2f}\")\n"
   ]
  },
  {
   "cell_type": "markdown",
   "metadata": {
    "application/vnd.databricks.v1+cell": {
     "cellMetadata": {},
     "inputWidgets": {},
     "nuid": "d8f54e48-65b8-42c7-9ace-1cd209d7ec73",
     "showTitle": false,
     "tableResultSettingsMap": {},
     "title": ""
    }
   },
   "source": [
    "### Conclusiones\n",
    "El uso de PySpark permitió realizar un análisis y modelado eficiente de grandes volúmenes de datos, aprovechando las capacidades de sistemas distribuidos y entornos HPC para reducir los tiempos de procesamiento. Esto es útil para manejar grandes cantidades de datos de manera rápida y eficiente.\n",
    "\n",
    "El modelo de predicción de paro cardíaco alcanzó un AUC de 0.84, indicando un buen desempeño en la discriminación entre casos positivos y negativos. Aun así, hay espacio para mejorar. Estrategias como un preprocesamiento de datos más exhaustivo y la optimización de los hiperparámetros del modelo podrían ayudar a aumentar su rendimiento.\n",
    "\n",
    "La fase de preprocesamiento es importante en proyectos de análisis y modelado de datos, ya que afecta directamente la calidad y rendimiento del modelo. Un buen preprocesamiento mejora la precisión, mientras que un mal manejo de los datos puede afectarla. Técnicas como la limpieza de datos, la imputación de valores nulos y la transformación de variables categóricas ayudan a optimizar la capacidad predictiva del modelo y a reducir el ruido en los datos.\n",
    "\n",
    "En general, PySpark demostró ser efectivo para tareas de análisis y modelado de datos a gran escala. Implementar mejoras adicionales podría llevar a un rendimiento más alto y modelos más precisos."
   ]
  },
  {
   "cell_type": "markdown",
   "metadata": {
    "application/vnd.databricks.v1+cell": {
     "cellMetadata": {},
     "inputWidgets": {},
     "nuid": "2c2f11f4-2947-4ff0-96fc-6632b985d886",
     "showTitle": false,
     "tableResultSettingsMap": {},
     "title": ""
    }
   },
   "source": [
    "###Recomendaciones\n",
    "Implementar técnicas de preprocesamiento más detalladas, con el fin de mejorar la calidad del modelo.\n",
    "\n",
    "Implementar validación cruzada para evitar el sobreajuste y a evaluar mejor el rendimiento del modelo.\n",
    "\n",
    "Probar otros algoritmos de clasificación como Gradient Boosted Trees para comparar resultados y mejorar el desempeño."
   ]
  }
 ],
 "metadata": {
  "application/vnd.databricks.v1+notebook": {
   "dashboards": [],
   "environmentMetadata": null,
   "language": "python",
   "notebookMetadata": {
    "pythonIndentUnit": 2
   },
   "notebookName": "PUJ_Lab_SPARK",
   "widgets": {}
  },
  "kernelspec": {
   "display_name": "Python 3 (ipykernel)",
   "language": "python",
   "name": "python3"
  },
  "language_info": {
   "codemirror_mode": {
    "name": "ipython",
    "version": 3
   },
   "file_extension": ".py",
   "mimetype": "text/x-python",
   "name": "python",
   "nbconvert_exporter": "python",
   "pygments_lexer": "ipython3",
   "version": "3.12.7"
  }
 },
 "nbformat": 4,
 "nbformat_minor": 0
}
