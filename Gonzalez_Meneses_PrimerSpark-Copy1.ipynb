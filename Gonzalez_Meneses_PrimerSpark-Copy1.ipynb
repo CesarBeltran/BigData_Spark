{
 "cells": [
  {
   "cell_type": "markdown",
   "id": "1982816d-672c-41cf-99e4-3e1743c16a95",
   "metadata": {},
   "source": [
    "\n",
    "### Pontificia Universidad Javeriana\n",
    "\n",
    "*Autor:* S. Gonzalez\n",
    "\n",
    "*Fecha:* 5-nov-24\n",
    "\n",
    "*Cuaderno:* Primeros pasos con PySpark\n",
    "\n",
    "*Tema:* Limpieza de datos y predicción usando PySpark"
   ]
  },
  {
   "cell_type": "markdown",
   "id": "deb41fc1-b822-450d-9392-a5f90e7e1839",
   "metadata": {},
   "source": [
    "Se instalan las bibliotecas para (Una sola vez se instala):\n",
    "\n",
    "- Spark (findspark)\n",
    "- Numpy\n",
    "- Seaborn\n",
    "- matplotlib\n",
    "- scikit-learn\n",
    "- squarify"
   ]
  },
  {
   "cell_type": "code",
   "execution_count": 1,
   "id": "e34956ec-a6ec-46ca-b811-6e882e558b19",
   "metadata": {},
   "outputs": [
    {
     "name": "stdout",
     "output_type": "stream",
     "text": [
      "Requirement already satisfied: numpy in /home/sistemas/miniconda3/lib/python3.12/site-packages (2.1.3)\n"
     ]
    }
   ],
   "source": [
    "!pip install numpy"
   ]
  },
  {
   "cell_type": "code",
   "execution_count": 2,
   "id": "f1b54b1c-5043-410c-87f2-4a85ae2e891f",
   "metadata": {},
   "outputs": [
    {
     "name": "stdout",
     "output_type": "stream",
     "text": [
      "Requirement already satisfied: pyspark in /home/sistemas/miniconda3/lib/python3.12/site-packages (3.5.3)\n",
      "Requirement already satisfied: py4j==0.10.9.7 in /home/sistemas/miniconda3/lib/python3.12/site-packages (from pyspark) (0.10.9.7)\n"
     ]
    }
   ],
   "source": [
    "!pip install pyspark"
   ]
  },
  {
   "cell_type": "code",
   "execution_count": 3,
   "id": "1d4dead8-6b2b-472d-ab58-e1eb0afca553",
   "metadata": {},
   "outputs": [],
   "source": [
    "import numpy as np\n",
    "import seaborn as sns\n",
    "import matplotlib.pyplot as plt\n",
    "\n",
    "import pyspark\n",
    "from pyspark.context import SparkContext\n",
    "from pyspark.sql import SQLContext, SparkSession\n",
    "\n",
    "from pyspark.sql.types import *\n",
    "from pyspark.sql.functions import input_file_name, mean, col, split, regexp_extract, when, lit, isnan, count\n",
    "from pyspark import SparkFiles\n",
    "\n",
    "from pyspark.conf import SparkConf\n",
    "import os "
   ]
  },
  {
   "cell_type": "markdown",
   "id": "97e05130-5512-4259-9678-4f2d36f856d6",
   "metadata": {},
   "source": [
    "## Se configura el entorno spark\n",
    "\n"
   ]
  },
  {
   "cell_type": "code",
   "execution_count": 4,
   "id": "4f18a4b5-17be-4225-8d79-4fd2fe997616",
   "metadata": {},
   "outputs": [
    {
     "name": "stderr",
     "output_type": "stream",
     "text": [
      "/almacen/Spark/conf/spark-env.sh: línea 49: SPARK_MASTER_HOST: orden no encontrada\n",
      "Setting default log level to \"WARN\".\n",
      "To adjust logging level use sc.setLogLevel(newLevel). For SparkR, use setLogLevel(newLevel).\n",
      "24/11/12 21:03:21 WARN NativeCodeLoader: Unable to load native-hadoop library for your platform... using builtin-java classes where applicable\n",
      "24/11/12 21:03:21 WARN SparkConf: Note that spark.local.dir will be overridden by the value set by the cluster manager (via SPARK_LOCAL_DIRS in mesos/standalone/kubernetes and LOCAL_DIRS in YARN).\n"
     ]
    },
    {
     "name": "stdout",
     "output_type": "stream",
     "text": [
      "Sesion creada: HPC\n"
     ]
    },
    {
     "data": {
      "text/html": [
       "\n",
       "            <div>\n",
       "                <p><b>SparkSession - in-memory</b></p>\n",
       "                \n",
       "        <div>\n",
       "            <p><b>SparkContext</b></p>\n",
       "\n",
       "            <p><a href=\"http://dos02:4040\">Spark UI</a></p>\n",
       "\n",
       "            <dl>\n",
       "              <dt>Version</dt>\n",
       "                <dd><code>v3.5.3</code></dd>\n",
       "              <dt>Master</dt>\n",
       "                <dd><code>spark://dos01:7077</code></dd>\n",
       "              <dt>AppName</dt>\n",
       "                <dd><code>Proyecto00_Spark_Stroke_Gonzalez_Meneses</code></dd>\n",
       "            </dl>\n",
       "        </div>\n",
       "        \n",
       "            </div>\n",
       "        "
      ],
      "text/plain": [
       "<pyspark.sql.session.SparkSession at 0x729fcce654f0>"
      ]
     },
     "execution_count": 4,
     "metadata": {},
     "output_type": "execute_result"
    }
   ],
   "source": [
    "SPARK_MASTER_URL = os.getenv(\"SPARK_MASTER_URL\",\"spark://dos01:7077\")\n",
    "configura=SparkConf()\n",
    "configura.setMaster(SPARK_MASTER_URL)\n",
    "configura.set('spark.local.dir','/almacen/TrabajosSpark/')\n",
    "configura.setAppName(\"Proyecto00_Spark_Stroke_Gonzalez_Meneses\")\n",
    "\n",
    "configura.set('spark.cores.max',6)\n",
    "configura.set('spark.executor.cores',6)\n",
    "\n",
    "spark = SparkSession.builder.config(conf=configura).getOrCreate()\n",
    "SQLContext(sparkContext=spark.sparkContext, sparkSession=spark)\n",
    "\n",
    "print(\"Sesion creada: HPC\")\n",
    "spark"
   ]
  },
  {
   "cell_type": "code",
   "execution_count": 5,
   "id": "230e1f7a-8d00-4674-859f-8b521a7385fc",
   "metadata": {},
   "outputs": [
    {
     "name": "stderr",
     "output_type": "stream",
     "text": [
      "                                                                                \r"
     ]
    }
   ],
   "source": [
    "dfStroke00 = spark.read.csv(\"stroke_pyspark.csv\", header=True, inferSchema=True)"
   ]
  },
  {
   "cell_type": "code",
   "execution_count": 6,
   "id": "e6c30dfb-1d94-45b7-a64c-fa819172cb75",
   "metadata": {},
   "outputs": [
    {
     "name": "stdout",
     "output_type": "stream",
     "text": [
      "+-----+------+----+------------+-------------+------------+-------------+--------------+-----------------+----+---------------+------+\n",
      "|   id|gender| age|hypertension|heart_disease|ever_married|    work_type|Residence_type|avg_glucose_level| bmi| smoking_status|stroke|\n",
      "+-----+------+----+------------+-------------+------------+-------------+--------------+-----------------+----+---------------+------+\n",
      "| 9046|  Male|67.0|           0|            1|         Yes|      Private|         Urban|           228.69|36.6|formerly smoked|     1|\n",
      "|51676|Female|61.0|           0|            0|         Yes|Self-employed|         Rural|           202.21| N/A|   never smoked|     1|\n",
      "+-----+------+----+------------+-------------+------------+-------------+--------------+-----------------+----+---------------+------+\n",
      "only showing top 2 rows\n",
      "\n"
     ]
    }
   ],
   "source": [
    "dfStroke00.show(2)"
   ]
  },
  {
   "cell_type": "code",
   "execution_count": 7,
   "id": "f5fd3a84-a20b-47d9-8454-f14489158736",
   "metadata": {},
   "outputs": [
    {
     "name": "stdout",
     "output_type": "stream",
     "text": [
      "root\n",
      " |-- id: integer (nullable = true)\n",
      " |-- gender: string (nullable = true)\n",
      " |-- age: double (nullable = true)\n",
      " |-- hypertension: integer (nullable = true)\n",
      " |-- heart_disease: integer (nullable = true)\n",
      " |-- ever_married: string (nullable = true)\n",
      " |-- work_type: string (nullable = true)\n",
      " |-- Residence_type: string (nullable = true)\n",
      " |-- avg_glucose_level: double (nullable = true)\n",
      " |-- bmi: string (nullable = true)\n",
      " |-- smoking_status: string (nullable = true)\n",
      " |-- stroke: integer (nullable = true)\n",
      "\n"
     ]
    }
   ],
   "source": [
    "### Tipo de datos\n",
    "\n",
    "dfStroke00.printSchema()"
   ]
  },
  {
   "cell_type": "code",
   "execution_count": 8,
   "id": "16c01b73-575e-45e3-815b-d283fe77c3ea",
   "metadata": {},
   "outputs": [],
   "source": [
    "# Se requiere cambiar los nombres de las columnas\n",
    "\n",
    "nuevosNombres= ['ID',\n",
    " 'Genero',\n",
    " 'Edad',\n",
    " 'Hipertension',\n",
    " 'Enfermedad',\n",
    " 'Casado',\n",
    " 'Trabajo',\n",
    " 'Tipo_Residencia',\n",
    " 'Nivel_Prom_Glucosa',\n",
    " 'IMC',\n",
    " 'Fumador',\n",
    " 'Paro_Cardiaco']\n",
    "\n",
    "dfStroke01=dfStroke00\n",
    "\n",
    "for antes, nuevo in zip(dfStroke00.columns, nuevosNombres):\n",
    "    dfStroke01 = dfStroke01.withColumnRenamed(antes, nuevo) "
   ]
  },
  {
   "cell_type": "code",
   "execution_count": 9,
   "id": "527ee39f-8e4c-4274-aef5-9875fd848f40",
   "metadata": {},
   "outputs": [],
   "source": [
    "### Pasar IMC a double\n",
    "\n",
    "dfStroke01=dfStroke01.withColumn('IMC', dfStroke01.IMC.cast(DoubleType()))"
   ]
  },
  {
   "cell_type": "code",
   "execution_count": 10,
   "id": "c59a1a38-1af9-4d7a-b845-8db1b40b8907",
   "metadata": {},
   "outputs": [
    {
     "name": "stdout",
     "output_type": "stream",
     "text": [
      "3.9334637964774952\n"
     ]
    },
    {
     "name": "stderr",
     "output_type": "stream",
     "text": [
      "                                                                                \r"
     ]
    }
   ],
   "source": [
    "nulos = (201/dfStroke01.count())*100\n",
    "print(nulos)"
   ]
  },
  {
   "cell_type": "code",
   "execution_count": 11,
   "id": "863ac850-f1bc-48c1-a0ba-da5cec8f5aaa",
   "metadata": {},
   "outputs": [
    {
     "name": "stdout",
     "output_type": "stream",
     "text": [
      "+------+-----+\n",
      "|Genero|count|\n",
      "+------+-----+\n",
      "|Female| 2994|\n",
      "| Other|    1|\n",
      "|  Male| 2115|\n",
      "+------+-----+\n",
      "\n"
     ]
    }
   ],
   "source": [
    "## Se estratifica por edades y género, de modo que cada 10años se saca el ICM promedio por género\n",
    "\n",
    "dfStroke01.groupby(['Genero']).count().show()"
   ]
  },
  {
   "cell_type": "code",
   "execution_count": 12,
   "id": "da42b190-317e-476d-bd18-59bd0f26fc80",
   "metadata": {},
   "outputs": [
    {
     "name": "stderr",
     "output_type": "stream",
     "text": [
      "[Stage 11:>                                                         (0 + 1) / 1]\r"
     ]
    },
    {
     "name": "stdout",
     "output_type": "stream",
     "text": [
      "+------+-----+\n",
      "|Genero|count|\n",
      "+------+-----+\n",
      "|Female| 2994|\n",
      "|  Male| 2115|\n",
      "+------+-----+\n",
      "\n"
     ]
    },
    {
     "name": "stderr",
     "output_type": "stream",
     "text": [
      "                                                                                \r"
     ]
    }
   ],
   "source": [
    "# Se elimina el other\n",
    "\n",
    "dfStroke02 = dfStroke01.where(\"Genero <> 'Other'\")\n",
    "dfStroke02.groupby(['Genero']).count().show()"
   ]
  },
  {
   "cell_type": "code",
   "execution_count": 13,
   "id": "732962d6-6033-4e3a-9c1d-4da3a23a8a03",
   "metadata": {},
   "outputs": [],
   "source": [
    "AvIMC_0_10 = dfStroke02.where((col(\"Genero\") == lit(\"Female\")) & (col(\"Edad\") < 10)).select(mean(col(\"IMC\"))).collect()"
   ]
  },
  {
   "cell_type": "code",
   "execution_count": 14,
   "id": "a7a4c762-2897-4984-bd8a-ed438316efea",
   "metadata": {},
   "outputs": [
    {
     "name": "stdout",
     "output_type": "stream",
     "text": [
      "[Row(avg(IMC)=18.687962962962963)]\n"
     ]
    }
   ],
   "source": [
    "print(AvIMC_0_10)"
   ]
  },
  {
   "cell_type": "code",
   "execution_count": 15,
   "id": "aee0800c-3f4d-441b-bebd-5850c5bc2f2d",
   "metadata": {},
   "outputs": [],
   "source": [
    "#Se hace la funcion para el cambio\n",
    "\n",
    "def cambioPromedio(df, col01, catGenero, col02, minEdad, maxEdad, col03):\n",
    "    prom = df.where((col(col01) == lit(catGenero)) & (col(col02) > minEdad) & (col(col02) < maxEdad)).select(mean(col(col03))).collect()[0][0]\n",
    "    print(prom)\n",
    "    dfResul = df.withColumn(col03, when(((df[col01] == catGenero) & (df[col03].isNull()) & (df[col02]<maxEdad)), prom).otherwise(df[col03]))\n",
    "    return dfResul"
   ]
  },
  {
   "cell_type": "code",
   "execution_count": 16,
   "id": "fee47183-8559-442c-980b-3b9b4305a83e",
   "metadata": {},
   "outputs": [
    {
     "name": "stdout",
     "output_type": "stream",
     "text": [
      "18.687962962962963\n"
     ]
    },
    {
     "name": "stderr",
     "output_type": "stream",
     "text": [
      "                                                                                \r"
     ]
    },
    {
     "name": "stdout",
     "output_type": "stream",
     "text": [
      "25.553556485355664\n",
      "28.418373493975906\n"
     ]
    },
    {
     "name": "stderr",
     "output_type": "stream",
     "text": [
      "                                                                                \r"
     ]
    },
    {
     "name": "stdout",
     "output_type": "stream",
     "text": [
      "31.142359249329765\n",
      "31.123333333333324\n"
     ]
    },
    {
     "name": "stderr",
     "output_type": "stream",
     "text": [
      "                                                                                \r"
     ]
    },
    {
     "name": "stdout",
     "output_type": "stream",
     "text": [
      "31.915686274509792\n",
      "30.62181208053691\n",
      "29.3374558303887\n",
      "28.101428571428578\n",
      "None\n"
     ]
    },
    {
     "name": "stderr",
     "output_type": "stream",
     "text": [
      "                                                                                \r"
     ]
    }
   ],
   "source": [
    "dfStroke03 = dfStroke02\n",
    "for promedio in range(0,100,10):\n",
    "    dfStroke03 = cambioPromedio(dfStroke03, \"Genero\", \"Female\", \"Edad\", promedio, promedio+10, \"IMC\")"
   ]
  }
 ],
 "metadata": {
  "kernelspec": {
   "display_name": "Python 3 (ipykernel)",
   "language": "python",
   "name": "python3"
  },
  "language_info": {
   "codemirror_mode": {
    "name": "ipython",
    "version": 3
   },
   "file_extension": ".py",
   "mimetype": "text/x-python",
   "name": "python",
   "nbconvert_exporter": "python",
   "pygments_lexer": "ipython3",
   "version": "3.12.7"
  }
 },
 "nbformat": 4,
 "nbformat_minor": 5
}
